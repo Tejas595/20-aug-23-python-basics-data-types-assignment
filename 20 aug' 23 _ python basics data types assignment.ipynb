{
 "cells": [
  {
   "cell_type": "markdown",
   "id": "9e2b3af9-497a-4030-b78a-c9a61aff614f",
   "metadata": {},
   "source": [
    "# Assignment-2 :-python data types assignment "
   ]
  },
  {
   "cell_type": "markdown",
   "id": "a1e79e82-12fa-44a2-a6dc-e2afda190e1a",
   "metadata": {},
   "source": [
    "# # Topic 1 :string based assignment problem\n",
    "\n"
   ]
  },
  {
   "cell_type": "code",
   "execution_count": 10,
   "id": "2508b180-41da-4a9f-ab78-40af57fab5e2",
   "metadata": {},
   "outputs": [
    {
     "name": "stdout",
     "output_type": "stream",
     "text": [
      "!toorg ma I\n"
     ]
    }
   ],
   "source": [
    "#Ques 1\n",
    "a=\"I am groot!\"\n",
    "print(a[::-1])"
   ]
  },
  {
   "cell_type": "code",
   "execution_count": 14,
   "id": "31573e67-e4cf-49bc-962c-34ae3ad5516e",
   "metadata": {},
   "outputs": [
    {
     "name": "stdin",
     "output_type": "stream",
     "text": [
      "enter the string  oppo\n"
     ]
    },
    {
     "name": "stdout",
     "output_type": "stream",
     "text": [
      "The string is palindrome is True\n"
     ]
    }
   ],
   "source": [
    "#Ques 2\n",
    "xz=input(\"enter the string \")\n",
    "y=xz[::-1]\n",
    "print(\"The string is palindrome is\",xz==y)"
   ]
  },
  {
   "cell_type": "code",
   "execution_count": 15,
   "id": "20529901-9dc4-44c3-82fa-e35534620cda",
   "metadata": {},
   "outputs": [
    {
     "name": "stdout",
     "output_type": "stream",
     "text": [
      "STRING BASED ASSIGNMENT\n"
     ]
    }
   ],
   "source": [
    "#Ques 3\n",
    "c=\"string based assignment\"\n",
    "print(c.upper())"
   ]
  },
  {
   "cell_type": "code",
   "execution_count": 16,
   "id": "4b3b7c70-baa3-45a9-a19f-ee8a1348b536",
   "metadata": {},
   "outputs": [
    {
     "name": "stdout",
     "output_type": "stream",
     "text": [
      "i am 20 years old\n"
     ]
    }
   ],
   "source": [
    "#Ques 4\n",
    "d=\"I Am 20 Years Old\"\n",
    "print(d.lower())"
   ]
  },
  {
   "cell_type": "code",
   "execution_count": 17,
   "id": "b36a66a6-af37-40fa-bcf3-1faf41474515",
   "metadata": {},
   "outputs": [
    {
     "name": "stdout",
     "output_type": "stream",
     "text": [
      "the total number of vowels in a string is  8\n"
     ]
    }
   ],
   "source": [
    "#Ques 5\n",
    "e=\"This is Important Session\"\n",
    "f=e.lower()\n",
    "t=f.count(\"a\")\n",
    "e=f.count(\"e\")\n",
    "j=f.count(\"i\")\n",
    "a=f.count(\"o\")\n",
    "s=f.count(\"u\")\n",
    "vowel=t+e+j+a+s\n",
    "print(\"the total number of vowels in a string is \",vowel)"
   ]
  },
  {
   "cell_type": "code",
   "execution_count": 18,
   "id": "68181461-3550-4ffe-a052-9eb2eff297a0",
   "metadata": {},
   "outputs": [
    {
     "name": "stdout",
     "output_type": "stream",
     "text": [
      "the total number of consonants in a string is  14\n"
     ]
    }
   ],
   "source": [
    "#Ques 6\n",
    "e=\"This is Important Session\"\n",
    "f=e.lower()\n",
    "g=f.replace(\" \",\"\")\n",
    "h=len(g)\n",
    "t=f.count(\"a\")\n",
    "e=f.count(\"e\")\n",
    "j=f.count(\"i\")\n",
    "a=f.count(\"o\")\n",
    "s=f.count(\"u\")\n",
    "consonant=h-(t+e+j+a+s)\n",
    "print(\"the total number of consonants in a string is \",consonant)"
   ]
  },
  {
   "cell_type": "code",
   "execution_count": 19,
   "id": "a6f2411e-3cd4-4ae6-b9a7-9381cd216d84",
   "metadata": {},
   "outputs": [
    {
     "name": "stdin",
     "output_type": "stream",
     "text": [
      "enter the string  how are you ?\n"
     ]
    },
    {
     "name": "stdout",
     "output_type": "stream",
     "text": [
      "howareyou?\n"
     ]
    }
   ],
   "source": [
    "#Ques 7\n",
    "strr=input(\"enter the string \")\n",
    "print(strr.replace(\" \",\"\"))"
   ]
  },
  {
   "cell_type": "code",
   "execution_count": 20,
   "id": "4ae7afeb-a679-448a-92bd-514ce8eabf5d",
   "metadata": {},
   "outputs": [
    {
     "name": "stdin",
     "output_type": "stream",
     "text": [
      "enter the sentence  important\n"
     ]
    },
    {
     "name": "stdout",
     "output_type": "stream",
     "text": [
      "9\n"
     ]
    }
   ],
   "source": [
    "#Ques 8\n",
    "\n",
    "x=input(\"enter the sentence \")\n",
    "count=0\n",
    "for i in x:\n",
    "    count=count+1\n",
    "print(count)"
   ]
  },
  {
   "cell_type": "code",
   "execution_count": 21,
   "id": "b87510c7-35bd-404c-8a14-400fc77826bd",
   "metadata": {},
   "outputs": [
    {
     "name": "stdin",
     "output_type": "stream",
     "text": [
      "enter the sentence  hii guys!\n"
     ]
    },
    {
     "name": "stdout",
     "output_type": "stream",
     "text": [
      "contains specific word\n"
     ]
    }
   ],
   "source": [
    "##Ques 9\n",
    "ab=input(\"enter the sentence \")\n",
    "specificword=\"hii\"\n",
    "if specificword  in ab:\n",
    "    print(\"contains specific word\")\n",
    "else:\n",
    "    print(\"does not contains specific word\")"
   ]
  },
  {
   "cell_type": "code",
   "execution_count": 22,
   "id": "2656a749-9f68-44a6-9d88-21cf44db75d8",
   "metadata": {},
   "outputs": [
    {
     "name": "stdout",
     "output_type": "stream",
     "text": [
      "i am not ok\n"
     ]
    }
   ],
   "source": [
    " #Ques 10\n",
    "cd=\"i am ok\"\n",
    "print(cd.replace(\"ok\",\"not ok\"))"
   ]
  },
  {
   "cell_type": "code",
   "execution_count": 25,
   "id": "def96ff5-0e73-476d-a9c0-e70e3fa3080a",
   "metadata": {},
   "outputs": [
    {
     "name": "stdout",
     "output_type": "stream",
     "text": [
      "2\n"
     ]
    }
   ],
   "source": [
    "# Ques 11\n",
    "de=\"i am ok and also not ok but it's fine\"\n",
    "dee=de.lower()\n",
    "print(dee.count(\"ok\"))"
   ]
  },
  {
   "cell_type": "code",
   "execution_count": 26,
   "id": "bc5b8650-ff7d-427f-9da2-d5f6715b6d0e",
   "metadata": {},
   "outputs": [
    {
     "name": "stdout",
     "output_type": "stream",
     "text": [
      "5\n"
     ]
    }
   ],
   "source": [
    " #Ques 12\n",
    "ef=\"i am ok and also not ok but it's fine\"\n",
    "eff=ef.lower()\n",
    "print(eff.find(\"ok\"))"
   ]
  },
  {
   "cell_type": "code",
   "execution_count": 27,
   "id": "1a7f4435-9499-4cf6-90ba-b15e84cdb81a",
   "metadata": {},
   "outputs": [
    {
     "name": "stdout",
     "output_type": "stream",
     "text": [
      "21\n"
     ]
    }
   ],
   "source": [
    "#Ques 13\n",
    "gh=\"i am ok and also not ok but it's fine\"\n",
    "ghh=gh.lower()\n",
    "print(ghh.rfind(\"ok\"))"
   ]
  },
  {
   "cell_type": "code",
   "execution_count": 28,
   "id": "5377dbe8-55c7-4074-995b-cd4316b61a94",
   "metadata": {},
   "outputs": [
    {
     "name": "stdout",
     "output_type": "stream",
     "text": [
      "['I', 'am', 'from', 'Maharashtra']\n"
     ]
    }
   ],
   "source": [
    "#Ques 14\n",
    "ij=\"I am from Maharashtra\"\n",
    "print(ij.split())"
   ]
  },
  {
   "cell_type": "code",
   "execution_count": 29,
   "id": "743c590a-ef55-42fc-99c8-0671dc755733",
   "metadata": {},
   "outputs": [
    {
     "name": "stdout",
     "output_type": "stream",
     "text": [
      "wheredoyoulive?\n"
     ]
    }
   ],
   "source": [
    "#Ques 15\n",
    "jk=[\"where\",\"do\",\"you\",\"live\",\"?\"]\n",
    "jkk=\"\"\n",
    "print(jkk.join(jk))"
   ]
  },
  {
   "cell_type": "code",
   "execution_count": 30,
   "id": "02104b15-a463-4abe-af43-197eff9f7f61",
   "metadata": {},
   "outputs": [
    {
     "name": "stdout",
     "output_type": "stream",
     "text": [
      "I_am_from_Maharashtra\n"
     ]
    }
   ],
   "source": [
    "#Ques 16\n",
    "kl=\"I am from Maharashtra\"\n",
    "print(kl.replace(\" \",\"_\"))"
   ]
  },
  {
   "cell_type": "code",
   "execution_count": 31,
   "id": "f521786f-4b90-4923-8e6a-ca28100e8516",
   "metadata": {},
   "outputs": [
    {
     "name": "stdout",
     "output_type": "stream",
     "text": [
      "the sentence start with i or I is True\n"
     ]
    }
   ],
   "source": [
    "#Ques 17\n",
    "ll=\"I am from Maharashtra ok\"\n",
    "llm=ll.lower()\n",
    "lol=llm.startswith(\"i\")\n",
    "print (\"the sentence start with i or I is\",lol)"
   ]
  },
  {
   "cell_type": "code",
   "execution_count": 32,
   "id": "a5e17036-cb2e-4861-b3db-43ab8df9be18",
   "metadata": {},
   "outputs": [
    {
     "name": "stdout",
     "output_type": "stream",
     "text": [
      "the sentence start with ok or OK is True\n"
     ]
    }
   ],
   "source": [
    "#Ques 18\n",
    "lk=\"I am from Maharashtra ok\"\n",
    "llk=lk.lower()\n",
    "kkk=llk.endswith(\"ok\")\n",
    "print (\"the sentence start with ok or OK is\",kkk)"
   ]
  },
  {
   "cell_type": "code",
   "execution_count": 33,
   "id": "c06ed2a7-501f-4371-a560-55b66c83420f",
   "metadata": {},
   "outputs": [
    {
     "name": "stdout",
     "output_type": "stream",
     "text": [
      "I Am From Maharashtra Ok\n"
     ]
    }
   ],
   "source": [
    "#Ques 19\n",
    "jp=\"I am from Maharashtra ok\"\n",
    "print(jp.title())"
   ]
  },
  {
   "cell_type": "code",
   "execution_count": 34,
   "id": "7da47a3e-6f51-49c9-be5e-fb4147556fa8",
   "metadata": {},
   "outputs": [
    {
     "name": "stdout",
     "output_type": "stream",
     "text": [
      "Maharashtra\n"
     ]
    }
   ],
   "source": [
    "#Ques 20\n",
    "jl=\"I am from Maharashtra ok\"\n",
    "joo=jl.split()\n",
    "print(max(joo,key=len))"
   ]
  },
  {
   "cell_type": "code",
   "execution_count": 35,
   "id": "2bd188ed-4d6f-49e1-9da8-faa86504157c",
   "metadata": {},
   "outputs": [
    {
     "name": "stdout",
     "output_type": "stream",
     "text": [
      "I\n"
     ]
    }
   ],
   "source": [
    "#Ques 21\n",
    "pp=\"I am from Maharashtra ok\"\n",
    "ppp=jl.split()\n",
    "print(min(ppp,key=len))"
   ]
  },
  {
   "cell_type": "code",
   "execution_count": 36,
   "id": "9e400dec-93d5-48cd-9471-e36a1f90aaa8",
   "metadata": {},
   "outputs": [
    {
     "name": "stdout",
     "output_type": "stream",
     "text": [
      "['ok', 'Maharashtra', 'from', 'am', 'I']\n"
     ]
    }
   ],
   "source": [
    "#Ques 22\n",
    "rv=\"I am from Maharashtra ok\"\n",
    "rrv=rv.split()\n",
    "print(rrv[-1::-1])"
   ]
  },
  {
   "cell_type": "code",
   "execution_count": 37,
   "id": "67b9d847-9a6d-4797-a628-7d372387b9b0",
   "metadata": {},
   "outputs": [
    {
     "name": "stdout",
     "output_type": "stream",
     "text": [
      "False\n"
     ]
    }
   ],
   "source": [
    "#Ques 23\n",
    "ds=\"this is data science course\"\n",
    "print(ds.isalnum())"
   ]
  },
  {
   "cell_type": "code",
   "execution_count": 38,
   "id": "ece7c196-3f53-459a-82ee-c37582363e28",
   "metadata": {},
   "outputs": [
    {
     "name": "stdout",
     "output_type": "stream",
     "text": [
      "['10', '20', '2', '25', '86']\n"
     ]
    }
   ],
   "source": [
    "# Ques 24\n",
    "import re\n",
    "fg=\"this is data 10 science20 2 25 cours86e\"\n",
    "print(re.findall(r'[0-9]+',fg))"
   ]
  },
  {
   "cell_type": "code",
   "execution_count": 40,
   "id": "07631c16-1a31-47f0-a48c-8a1afde1a4db",
   "metadata": {},
   "outputs": [
    {
     "name": "stdout",
     "output_type": "stream",
     "text": [
      "['this', 'is', 'data', 'science', 'course']\n"
     ]
    }
   ],
   "source": [
    "#Ques 25\n",
    "import re\n",
    "fl=\"this is data 10  science20 2 25 course86\"\n",
    "print(re.findall(r'[A-Za-z]+',fl))"
   ]
  },
  {
   "cell_type": "code",
   "execution_count": 43,
   "id": "160b70cb-6fd9-45c9-b2c6-71fc78e7e0d6",
   "metadata": {},
   "outputs": [
    {
     "name": "stdout",
     "output_type": "stream",
     "text": [
      "12\n"
     ]
    }
   ],
   "source": [
    " #Ques 26\n",
    "import re\n",
    "fg=\"THIS is DATA Science CoURse\"\n",
    "cou=(re.findall(r'[A-Z]',fg))\n",
    "print(len(cou))"
   ]
  },
  {
   "cell_type": "code",
   "execution_count": 45,
   "id": "730ecbd5-4638-4342-9b10-9430315e0d62",
   "metadata": {},
   "outputs": [
    {
     "name": "stdout",
     "output_type": "stream",
     "text": [
      "11\n"
     ]
    }
   ],
   "source": [
    " #Ques 27\n",
    "import re\n",
    "fg=\"THIS is DATA Science CoURse\"\n",
    "counting=(re.findall(r'[a-z]',fg))\n",
    "print(len(counting))"
   ]
  },
  {
   "cell_type": "code",
   "execution_count": 47,
   "id": "03cdf125-1d1e-4c23-915b-bbac7899521a",
   "metadata": {},
   "outputs": [
    {
     "name": "stdout",
     "output_type": "stream",
     "text": [
      "tHIS iS dATA sCIENCE cOURSE \n"
     ]
    }
   ],
   "source": [
    " #Ques 28\n",
    "wor=\"This Is Data Science Course \"\n",
    "print(wor.swapcase())"
   ]
  },
  {
   "cell_type": "code",
   "execution_count": 50,
   "id": "c9148114-a9d2-41ed-8e52-d8615d3aa1a7",
   "metadata": {},
   "outputs": [
    {
     "name": "stdout",
     "output_type": "stream",
     "text": [
      "This Is Data course \n"
     ]
    }
   ],
   "source": [
    " #Ques 29\n",
    "wordi=\"This Is Data Science course \"\n",
    "specific_wordi=\"Science\"\n",
    "print(wordi.replace(\"Science \",\"\"))"
   ]
  },
  {
   "cell_type": "code",
   "execution_count": 52,
   "id": "18d989cc-1cad-4653-9060-4de62835b953",
   "metadata": {},
   "outputs": [
    {
     "name": "stdout",
     "output_type": "stream",
     "text": [
      "valid -mail id\n"
     ]
    }
   ],
   "source": [
    " #Ques 30\n",
    "import re  \n",
    "email=\"saket856@email.com\"\n",
    "pattern = r'^[\\w\\.-]+@[\\w\\.-]+\\.\\w+$'  \n",
    "if re.match(pattern, email):\n",
    "    print( \"valid -mail id\")\n",
    "else:\n",
    "    print(\"Invalid email id\")"
   ]
  },
  {
   "cell_type": "code",
   "execution_count": 54,
   "id": "bee25075-b39f-43da-ba89-e968e0d4e387",
   "metadata": {},
   "outputs": [
    {
     "name": "stdout",
     "output_type": "stream",
     "text": [
      "elonmusk856\n"
     ]
    }
   ],
   "source": [
    "##Ques 31\n",
    "emailad=\"elonmusk856@email.com\"\n",
    "username=emailad.split(\"@\")[0]\n",
    "print(username)"
   ]
  },
  {
   "cell_type": "code",
   "execution_count": 56,
   "id": "e5c62439-64f7-4fbe-80cb-0b45f3145f9b",
   "metadata": {},
   "outputs": [
    {
     "name": "stdout",
     "output_type": "stream",
     "text": [
      "email.com\n"
     ]
    }
   ],
   "source": [
    "##Ques 32\n",
    "emailad=\"elonmusk856@email.com\"\n",
    "domainname=emailad.split(\"@\")[1]\n",
    "print(domainname)"
   ]
  },
  {
   "cell_type": "code",
   "execution_count": 58,
   "id": "dcba3af6-5ce2-4b0f-a9e3-6aa1aa58e8d6",
   "metadata": {},
   "outputs": [
    {
     "name": "stdout",
     "output_type": "stream",
     "text": [
      "what can i do for you ?\n"
     ]
    }
   ],
   "source": [
    "# ##Ques 33\n",
    "import re\n",
    "sen=\"what  can  i do   for   you       ?\"\n",
    "print(re.sub(' +',' ',sen))"
   ]
  },
  {
   "cell_type": "code",
   "execution_count": 60,
   "id": "ad447996-f032-4453-ae3e-2bf6cb550d3f",
   "metadata": {},
   "outputs": [
    {
     "name": "stdout",
     "output_type": "stream",
     "text": [
      "True\n",
      "False\n"
     ]
    }
   ],
   "source": [
    "#Ques 34\n",
    "from urllib.parse import urlparse\n",
    "\n",
    "def is_valid_url(url):\n",
    "    try:\n",
    "        result = urlparse(url)\n",
    "        return all([result.scheme, result.netloc])  \n",
    "    except ValueError:\n",
    "        return False\n",
    "url1 = \"https://www.example.com\"\n",
    "url2 = \"invalid-url\"\n",
    "result1 = is_valid_url(url1)\n",
    "result2 = is_valid_url(url2)\n",
    "print(result1)  \n",
    "print(result2)  \n",
    "    "
   ]
  },
  {
   "cell_type": "code",
   "execution_count": 63,
   "id": "a5c3a099-a9b6-4c28-afd8-19cb9a103e10",
   "metadata": {},
   "outputs": [
    {
     "name": "stdout",
     "output_type": "stream",
     "text": [
      "http\n"
     ]
    }
   ],
   "source": [
    "#Ques 35\n",
    "protocol1=\"http://google.com\"\n",
    "print(protocol1.split(\":\")[0])"
   ]
  },
  {
   "cell_type": "code",
   "execution_count": 65,
   "id": "69960c6a-6a49-433d-97a4-66f2f6bdca90",
   "metadata": {},
   "outputs": [
    {
     "name": "stdout",
     "output_type": "stream",
     "text": [
      "{'h': 1, 'o': 2, 'w': 1, ' ': 2, 'a': 1, 'r': 1, 'e': 1, 'y': 1, 'u': 1}\n"
     ]
    }
   ],
   "source": [
    "#Ques 36\n",
    "words=\"how are you\"\n",
    "fre={}\n",
    "for keys in words:\n",
    "    fre[keys]=fre.get(keys,0)+1\n",
    "print(str(fre))"
   ]
  },
  {
   "cell_type": "code",
   "execution_count": 67,
   "id": "ef9455fe-bff9-4f7e-9c59-8c1f0ff93dcc",
   "metadata": {},
   "outputs": [
    {
     "name": "stdout",
     "output_type": "stream",
     "text": [
      "hello How are you\n"
     ]
    }
   ],
   "source": [
    "#Ques 37\n",
    "import string\n",
    "input_string=\"hello!, Ho'w ar'e y'o'u\"\n",
    "translator = str.maketrans(\"\", \"\", string.punctuation)\n",
    "clean_string = input_string.translate(translator)\n",
    "print(clean_string)"
   ]
  },
  {
   "cell_type": "code",
   "execution_count": 69,
   "id": "ba069ed7-a10a-449d-bd03-0dd61b154b8c",
   "metadata": {},
   "outputs": [
    {
     "name": "stdout",
     "output_type": "stream",
     "text": [
      "True\n"
     ]
    }
   ],
   "source": [
    "#Ques 38\n",
    "digistring=\"1234568232\"\n",
    "print(digistring.isdigit()) "
   ]
  },
  {
   "cell_type": "code",
   "execution_count": 72,
   "id": "0ffbb0ca-9ff8-4b3e-a9ac-c2c321a49acf",
   "metadata": {},
   "outputs": [
    {
     "name": "stdout",
     "output_type": "stream",
     "text": [
      "True\n"
     ]
    }
   ],
   "source": [
    "#Ques 39\n",
    "alphastring=\"helloguys\"\n",
    "print(alphastring.isalpha())"
   ]
  },
  {
   "cell_type": "code",
   "execution_count": 74,
   "id": "143db87e-169d-4f37-a989-74e38e8b8d59",
   "metadata": {},
   "outputs": [
    {
     "name": "stdout",
     "output_type": "stream",
     "text": [
      "['b', 'e', 'h', 'e', 'r', 'o', 'e', 's', 'o', 'f', 'y', 'o', 'u', 'r', 'o', 'w', 'n', 's', 't', 'o', 'r', 'i', 'e', 's']\n"
     ]
    }
   ],
   "source": [
    "#Ques 40\n",
    "import re\n",
    "convstring=\"be heroes of your own stories\"\n",
    "print(re.findall(r'[A-Za-z]',convstring))"
   ]
  },
  {
   "cell_type": "code",
   "execution_count": 76,
   "id": "364a2bf5-3ec0-48ad-8ec7-ebf0a17f8823",
   "metadata": {},
   "outputs": [
    {
     "name": "stdout",
     "output_type": "stream",
     "text": [
      "True\n"
     ]
    }
   ],
   "source": [
    "#Ques 41\n",
    "str1=\"Night\"\n",
    "str2=\"Thing\"\n",
    "str01=str1.replace(\" \",\"\").lower()\n",
    "str02=str2.replace(\" \",\"\").lower()\n",
    "print(sorted(str01)==sorted(str01))"
   ]
  },
  {
   "cell_type": "code",
   "execution_count": 78,
   "id": "bfe967fd-69e5-41aa-9819-30bf850081c0",
   "metadata": {},
   "outputs": [
    {
     "name": "stdout",
     "output_type": "stream",
     "text": [
      "Khoor, Zruog!\n"
     ]
    }
   ],
   "source": [
    "#Ques 42\n",
    "def caesar_cipher_encrypt(plain_text, shift):\n",
    "    encrypted_text = \"\"\n",
    "    \n",
    "    for char in plain_text:\n",
    "        if char.isalpha():\n",
    "            is_upper = char.isupper()\n",
    "            shifted_char = chr((ord(char) - ord('A' if is_upper else 'a') + shift) % 26 + ord('A' if is_upper else 'a'))      \n",
    "            encrypted_text += shifted_char\n",
    "        else:\n",
    "            encrypted_text += char\n",
    "    \n",
    "    return encrypted_text\n",
    "\n",
    "plain_text = \"Hello, World!\"\n",
    "shift_amount = 3\n",
    "encrypted_text = caesar_cipher_encrypt(plain_text, shift_amount)\n",
    "\n",
    "print(encrypted_text)"
   ]
  },
  {
   "cell_type": "code",
   "execution_count": 80,
   "id": "189ac68f-deb6-47b0-addb-44864d39da8c",
   "metadata": {},
   "outputs": [
    {
     "name": "stdout",
     "output_type": "stream",
     "text": [
      "Hello, World!\n"
     ]
    }
   ],
   "source": [
    "#Ques 43\n",
    "def caesar_cipher_decrypt(encrypted_text, shift):\n",
    "    decrypted_text = \"\"\n",
    "    \n",
    "    for char in encrypted_text:\n",
    "        if char.isalpha():\n",
    "            is_upper = char.isupper()\n",
    "            shifted_char = chr((ord(char) - ord('A' if is_upper else 'a') - shift) % 26 + ord('A' if is_upper else 'a'))\n",
    "            decrypted_text += shifted_char\n",
    "        else:\n",
    "            decrypted_text += char\n",
    "    \n",
    "    return decrypted_text\n",
    "\n",
    "\n",
    "encrypted_text = \"Khoor, Zruog!\"\n",
    "shift_amount = 3\n",
    "decrypted_text = caesar_cipher_decrypt(encrypted_text, shift_amount)\n",
    "\n",
    "print(decrypted_text)"
   ]
  },
  {
   "cell_type": "code",
   "execution_count": 82,
   "id": "24740108-5396-4971-8226-79cdd035d5c8",
   "metadata": {},
   "outputs": [
    {
     "name": "stdout",
     "output_type": "stream",
     "text": [
      "Most frequent word: sample\n"
     ]
    }
   ],
   "source": [
    "#Ques 44\n",
    "\n",
    "from collections import Counter\n",
    "\n",
    "def most_frequent_word(input_string):\n",
    "    words = input_string.split()\n",
    "    word_counts = Counter(words)\n",
    "    most_common_word = word_counts.most_common(1)[0][0]\n",
    "    return most_common_word\n",
    "\n",
    "\n",
    "input_string = \"This is a sample string. The sample string contains repeated words.\"\n",
    "result = most_frequent_word(input_string)\n",
    "print(\"Most frequent word:\", result)"
   ]
  },
  {
   "cell_type": "code",
   "execution_count": 84,
   "id": "51a7b746-b4dd-432d-acf1-11b6f665d099",
   "metadata": {},
   "outputs": [
    {
     "name": "stdout",
     "output_type": "stream",
     "text": [
      "Unique words: {'This', 'string', 'string.', 'repeated', 'sample', 'contains', 'a', 'words.', 'is', 'The'}\n"
     ]
    }
   ],
   "source": [
    "#Ques 45\n",
    "def unique_words(input_string):\n",
    "    words = input_string.split()\n",
    "    unique_words = set(words)\n",
    "    return unique_words\n",
    "\n",
    "\n",
    "input_string = \"This is a sample string. The sample string contains repeated words.\"\n",
    "result = unique_words(input_string)\n",
    "print(\"Unique words:\", result)"
   ]
  },
  {
   "cell_type": "code",
   "execution_count": 86,
   "id": "aaccb9cf-f079-4dda-8c2b-1da81603953f",
   "metadata": {},
   "outputs": [
    {
     "name": "stdout",
     "output_type": "stream",
     "text": [
      "The total number of syllables in a string is  7\n"
     ]
    }
   ],
   "source": [
    "#Ques 46\n",
    "ef=\"full stack data science pro\"\n",
    "fi=ef.lower()\n",
    "p=fi.count(\"a\")\n",
    "a=fi.count(\"e\")\n",
    "r=fi.count(\"i\")\n",
    "a=fi.count(\"o\")\n",
    "s=fi.count(\"u\")\n",
    "syllables=p+a+r+a+s\n",
    "print(\"The total number of syllables in a string is \",syllables)"
   ]
  },
  {
   "cell_type": "code",
   "execution_count": 88,
   "id": "c363c440-7ceb-4e4d-87f3-9eef9dfb2fe1",
   "metadata": {},
   "outputs": [
    {
     "name": "stdout",
     "output_type": "stream",
     "text": [
      "True\n"
     ]
    }
   ],
   "source": [
    "#Ques 47\n",
    "import re\n",
    "senten=\"i am become a death! and the destroyer of worlds\"\n",
    "patt=re.compile(r'[!@#$%^&*()_+{}\\[\\]:;<>,.?~\\\\/]')\n",
    "matc = patt.search(senten)\n",
    "print(bool(matc))"
   ]
  },
  {
   "cell_type": "code",
   "execution_count": 90,
   "id": "c136d1af-76f3-41cc-8d9b-c1a0f7d50b14",
   "metadata": {},
   "outputs": [
    {
     "name": "stdout",
     "output_type": "stream",
     "text": [
      "i am become a and the destroyer of worlds\n"
     ]
    }
   ],
   "source": [
    "#Ques 48\n",
    "senti=\"i am become a death! and the  destroyer of worlds\"\n",
    "newsenti=senti.split()\n",
    "nthvalue=5\n",
    "newsenti.pop(nthvalue-1)\n",
    "finalsenti=\" \".join(newsenti)\n",
    "print(finalsenti)"
   ]
  },
  {
   "cell_type": "code",
   "execution_count": 92,
   "id": "818d50e7-c456-4460-ab9b-fb929dfccfa4",
   "metadata": {},
   "outputs": [
    {
     "name": "stdout",
     "output_type": "stream",
     "text": [
      "i am become a coder death! and the destroyer of worlds\n"
     ]
    }
   ],
   "source": [
    "#Ques 49\n",
    "sento=\"i am become a death! and the  destroyer of worlds\"\n",
    "newsento=sento.split()\n",
    "nthposition=5\n",
    "wordo=\"coder\"\n",
    "new_new_wordo=newsento.insert(nthposition-1,wordo)\n",
    "finalwordo=\" \".join(newsento)\n",
    "print(finalwordo)"
   ]
  },
  {
   "cell_type": "code",
   "execution_count": 94,
   "id": "81d48931-718e-4a9a-b262-e0a157883fc7",
   "metadata": {},
   "outputs": [
    {
     "name": "stdout",
     "output_type": "stream",
     "text": [
      "[['1', 'John', 'Doe'], ['2', 'Jane', 'Smith'], ['3', 'Bob', 'Johnson']]\n"
     ]
    }
   ],
   "source": [
    "#Ques 50\n",
    "import csv\n",
    "from io import StringIO\n",
    "\n",
    "csv_string = \"1,John,Doe\\n2,Jane,Smith\\n3,Bob,Johnson\"\n",
    "\n",
    "# Convert CSV string to list of lists\n",
    "csv_file = StringIO(csv_string)\n",
    "csv_reader = csv.reader(csv_file)\n",
    "list_of_lists = [row for row in csv_reader]\n",
    "\n",
    "print(list_of_lists)"
   ]
  },
  {
   "cell_type": "code",
   "execution_count": null,
   "id": "d7e74f56-9bb8-428b-9cd4-7e0b293c3ece",
   "metadata": {},
   "outputs": [],
   "source": []
  },
  {
   "cell_type": "markdown",
   "id": "6de9fdd9-02e1-483f-bcd9-ffed17e0fc10",
   "metadata": {},
   "source": [
    "# # Topic 2 : list based assignment problem\n"
   ]
  },
  {
   "cell_type": "code",
   "execution_count": 101,
   "id": "1bf93951-0463-4675-ab29-562bcfd2460c",
   "metadata": {},
   "outputs": [
    {
     "name": "stdout",
     "output_type": "stream",
     "text": [
      "[0, 1, 2, 3, 4, 5, 6, 7, 8, 9, 10]\n"
     ]
    }
   ],
   "source": [
    "#Ques 1\n",
    "integers=[]\n",
    "for i in range(11):\n",
    "    integers.append(i)\n",
    "print(integers)"
   ]
  },
  {
   "cell_type": "code",
   "execution_count": 103,
   "id": "df488789-3d1e-4859-81f1-73a736e4c66b",
   "metadata": {},
   "outputs": [
    {
     "name": "stdout",
     "output_type": "stream",
     "text": [
      "8\n"
     ]
    }
   ],
   "source": [
    "#Ques 2\n",
    "az=[\"suraj\",10,20,215,56,56.5,True,5+6j]\n",
    "count=0\n",
    "for i in az:\n",
    "    count=count+1\n",
    "print(count)"
   ]
  },
  {
   "cell_type": "code",
   "execution_count": 105,
   "id": "54047fe6-ddfd-4db3-a95d-6cdc1b048163",
   "metadata": {},
   "outputs": [
    {
     "name": "stdout",
     "output_type": "stream",
     "text": [
      "['suraj', 10, 20, 215, 56, 56.5, True, (5+6j), 'hello']\n"
     ]
    }
   ],
   "source": [
    "#Ques 3\n",
    "sx=[\"suraj\",10,20,215,56,56.5,True,5+6j]\n",
    "append_word=\"hello\"\n",
    "sx.append(append_word)\n",
    "print(sx)"
   ]
  },
  {
   "cell_type": "code",
   "execution_count": 107,
   "id": "d11d2614-b18a-4de6-8c17-ddbd483bd1f1",
   "metadata": {},
   "outputs": [
    {
     "name": "stdout",
     "output_type": "stream",
     "text": [
      "['suraj', 10, 20, 215, 56, 'India', 56.5, True, (5+6j)]\n"
     ]
    }
   ],
   "source": [
    "#Ques 4\n",
    "dc=[\"suraj\",10,20,215,56,56.5,True,5+6j]\n",
    "insert_index=5\n",
    "insert_word=\"India\"\n",
    "dc.insert(insert_index,insert_word)\n",
    "print(dc)"
   ]
  },
  {
   "cell_type": "code",
   "execution_count": 109,
   "id": "da7e7663-5c24-4ceb-b0c6-b54bf7cbd3d2",
   "metadata": {},
   "outputs": [
    {
     "name": "stdout",
     "output_type": "stream",
     "text": [
      "[1, 2, 3, 4, 5, 6, 7, 8, 9]\n"
     ]
    }
   ],
   "source": [
    "##Ques 5\n",
    "fv = [1,2,3,4,5,5.5,6,7,8,9]\n",
    "removing_element=5.5\n",
    "fv.remove(removing_element)\n",
    "print(fv) "
   ]
  },
  {
   "cell_type": "code",
   "execution_count": 110,
   "id": "19e44a15-694d-42f4-b8cf-b82bd60883ef",
   "metadata": {},
   "outputs": [
    {
     "name": "stdout",
     "output_type": "stream",
     "text": [
      "[1, 2, 3, 4, 5, 7, 8, 9, 10]\n"
     ]
    }
   ],
   "source": [
    "##Ques 6\n",
    "gb= [1,2,3,4,5,6,7,8,9,10]\n",
    "removing_index=5\n",
    "gb.pop(5)\n",
    "print(gb)"
   ]
  },
  {
   "cell_type": "code",
   "execution_count": 111,
   "id": "fe42b0b2-6ed7-4756-be0d-6c517ba276a4",
   "metadata": {},
   "outputs": [
    {
     "name": "stdout",
     "output_type": "stream",
     "text": [
      "the number 3 is available in list is  True\n",
      "the number 15 is available in list is  False\n"
     ]
    }
   ],
   "source": [
    "##Ques 7\n",
    "hn= [1,2,3,4,5,6,7,8,9,10]\n",
    "print(\"the number 3 is available in list is \",3 in hn)\n",
    "print(\"the number 15 is available in list is \",15 in hn)"
   ]
  },
  {
   "cell_type": "code",
   "execution_count": 113,
   "id": "10e46e0d-8ca7-44ae-a93e-e9350176cb36",
   "metadata": {},
   "outputs": [
    {
     "name": "stdout",
     "output_type": "stream",
     "text": [
      "The index of 5 is 4 \n"
     ]
    }
   ],
   "source": [
    "#Ques 8\n",
    "jm= [1,2,3,4,5,6,8,5,7,4,8,5,5,9,4,5,6,8,8,10]\n",
    "finding_index=5\n",
    "index_num=jm.index(finding_index)\n",
    "print(f'The index of {finding_index} is {index_num} ')"
   ]
  },
  {
   "cell_type": "code",
   "execution_count": 115,
   "id": "e7029ed0-c13b-4884-b3f3-386f1c0b13ac",
   "metadata": {},
   "outputs": [
    {
     "name": "stdout",
     "output_type": "stream",
     "text": [
      "The element 5 is occurs in a list is 5 times\n"
     ]
    }
   ],
   "source": [
    "# Ques 9\n",
    "jm= [1,2,3,4,5,6,8,5,7,4,8,5,5,9,4,5,6,8,8,10]\n",
    "counting_num=5\n",
    "counted_num=jm.count(counting_num)\n",
    "print(f'The element {counting_num} is occurs in a list is {counted_num} times')"
   ]
  },
  {
   "cell_type": "code",
   "execution_count": 117,
   "id": "f5994669-e814-4219-a787-13341c25fbf9",
   "metadata": {},
   "outputs": [
    {
     "name": "stdout",
     "output_type": "stream",
     "text": [
      "[(5+6j), True, 56.5, 56, 215, 20, 10, 'tejas']\n"
     ]
    }
   ],
   "source": [
    "#Ques 10\n",
    "za=[\"tejas\",10,20,215,56,56.5,True,5+6j]\n",
    "print(za[::-1])"
   ]
  },
  {
   "cell_type": "code",
   "execution_count": 119,
   "id": "96468e48-4c45-4441-a19f-52a15b6e0c0f",
   "metadata": {},
   "outputs": [
    {
     "name": "stdout",
     "output_type": "stream",
     "text": [
      "[3, 4, 5, 6, 9, 10, 15, 16, 56.6, 65, 86.4]\n"
     ]
    }
   ],
   "source": [
    "#Ques 11\n",
    "xs= [10,15,16,9,4,3,6,5,65,86.40,56.60]\n",
    "xs.sort()\n",
    "print(xs)"
   ]
  },
  {
   "cell_type": "code",
   "execution_count": 121,
   "id": "e6820af8-f07a-4291-8837-d1c32eef3f75",
   "metadata": {},
   "outputs": [
    {
     "name": "stdout",
     "output_type": "stream",
     "text": [
      "[36.56, 25, 15.2, 10, 9, 8, 7, 6, 5, 4, 3, 2, 1]\n"
     ]
    }
   ],
   "source": [
    "#Ques 12\n",
    "xs= [1,36.56,2,3,4,25,5,6,15.20,7,8,9,10]\n",
    "xs.sort(reverse=True)\n",
    "print(xs)"
   ]
  },
  {
   "cell_type": "code",
   "execution_count": 123,
   "id": "c848eef3-0aad-4618-a6bf-0196f9761ec5",
   "metadata": {},
   "outputs": [
    {
     "name": "stdout",
     "output_type": "stream",
     "text": [
      "[2, 4, 6, 8, 10, 12, 14, 16, 18, 20]\n"
     ]
    }
   ],
   "source": [
    "# Ques 13\n",
    "even_num=[]\n",
    "for num in range(1,21):\n",
    "    if num%2==0:\n",
    "        even_num.append(num)\n",
    "print(even_num)\n",
    "    "
   ]
  },
  {
   "cell_type": "code",
   "execution_count": 125,
   "id": "a3bb2636-02e6-4ee0-8aec-0163710c5ee5",
   "metadata": {},
   "outputs": [
    {
     "name": "stdout",
     "output_type": "stream",
     "text": [
      "[1, 3, 5, 7, 9, 11, 13, 15, 17, 19]\n"
     ]
    }
   ],
   "source": [
    "#Ques 14\n",
    "odd_num=[]\n",
    "for j in range(1,21,2):\n",
    "    odd_num.append(j)\n",
    "print(odd_num)"
   ]
  },
  {
   "cell_type": "code",
   "execution_count": 127,
   "id": "6a856616-91b2-41db-9475-b96dddb18213",
   "metadata": {},
   "outputs": [
    {
     "name": "stdout",
     "output_type": "stream",
     "text": [
      "131.76\n"
     ]
    }
   ],
   "source": [
    "#Ques 15\n",
    "cd= [1,36.56,2,3,4,25,5,6,15.20,7,8,9,10]\n",
    "print(sum(cd))"
   ]
  },
  {
   "cell_type": "code",
   "execution_count": 129,
   "id": "153b530d-90d4-492c-b151-a23b58b46c64",
   "metadata": {},
   "outputs": [
    {
     "name": "stdout",
     "output_type": "stream",
     "text": [
      "36.56\n"
     ]
    }
   ],
   "source": [
    "#Ques 16\n",
    "vf= [1,36.56,2,3,4,25,5,6,15.20,7,8,9,10]\n",
    "print(max(vf))"
   ]
  },
  {
   "cell_type": "code",
   "execution_count": 131,
   "id": "458b4596-cb03-4683-9aa6-b4d9cd6183f4",
   "metadata": {},
   "outputs": [
    {
     "name": "stdout",
     "output_type": "stream",
     "text": [
      "1\n"
     ]
    }
   ],
   "source": [
    "#Ques 17\n",
    "bg= [1,36.56,2,3,4,25,5,6,15.20,7,8,9,10]\n",
    "print(min(bg))"
   ]
  },
  {
   "cell_type": "code",
   "execution_count": 133,
   "id": "9875900a-c567-4814-aaa7-dc16ed6a4017",
   "metadata": {},
   "outputs": [
    {
     "name": "stdout",
     "output_type": "stream",
     "text": [
      "[1, 4, 9, 16, 25, 36, 49, 64, 81, 100]\n"
     ]
    }
   ],
   "source": [
    "#Ques 18\n",
    "squares_list=[]\n",
    "for numb in range(1,11):\n",
    "    numb=numb**2\n",
    "    squares_list.append(numb)\n",
    "print(squares_list)\n",
    "    "
   ]
  },
  {
   "cell_type": "code",
   "execution_count": 135,
   "id": "0b386eff-b719-4c0a-adac-a35fd078f676",
   "metadata": {},
   "outputs": [
    {
     "name": "stdout",
     "output_type": "stream",
     "text": [
      "[73, 45, 35, 91, 53, 43, 35, 65, 3, 9]\n"
     ]
    }
   ],
   "source": [
    "    \n",
    "\n",
    "#Ques 19\n",
    "import random\n",
    "random_list=[]\n",
    "for rand_num in range(10):\n",
    "    rnum=random.randint(1,100)\n",
    "    random_list.append(rnum)\n",
    "print(random_list)"
   ]
  },
  {
   "cell_type": "code",
   "execution_count": 137,
   "id": "323cc9a1-8911-4445-b6be-fc48d3a2abfe",
   "metadata": {},
   "outputs": [
    {
     "name": "stdout",
     "output_type": "stream",
     "text": [
      "[1, 2, 3, 4, 5, 6, 7, 8, 9, 10]\n"
     ]
    }
   ],
   "source": [
    "#Ques 20\n",
    "aws=[1,2,3,4,5,6,8,5,7,4,8,5,5,9,4,5,6,8,8,10]\n",
    "print(list(set(aws)))"
   ]
  },
  {
   "cell_type": "code",
   "execution_count": 139,
   "id": "82afc9fb-d3da-4989-a203-a9c018a199c9",
   "metadata": {},
   "outputs": [
    {
     "name": "stdout",
     "output_type": "stream",
     "text": [
      "[1, 2, 3, 35, 5, 4]\n"
     ]
    }
   ],
   "source": [
    "#Ques 21\n",
    "li1=[1,2,35,3,36,5,6,70,4,5]\n",
    "li2=[25,65,85,1,3,2,35,5,4]\n",
    "common_elements=set(li1)&set(li2)\n",
    "print(list(common_elements))"
   ]
  },
  {
   "cell_type": "code",
   "execution_count": 141,
   "id": "5f628db2-0a2a-4330-8738-cb195ed35390",
   "metadata": {},
   "outputs": [
    {
     "name": "stdout",
     "output_type": "stream",
     "text": [
      "[36, 6, 70]\n"
     ]
    }
   ],
   "source": [
    "#Ques 22\n",
    "l1=[1,2,35,36,5,6,70,4,5]\n",
    "l2=[25,65,85,1,3,2,35,5,4]\n",
    "print(list(set(l1).difference(l2)))"
   ]
  },
  {
   "cell_type": "code",
   "execution_count": 143,
   "id": "6a40f8f8-2676-43ef-b6f9-7050f342e4e7",
   "metadata": {},
   "outputs": [
    {
     "name": "stdout",
     "output_type": "stream",
     "text": [
      "merge list = [1, 2, 35, 36, 5, 6, 70, 4, 5, 25, 65, 85, 1, 3, 2, 35, 5, 4]\n"
     ]
    }
   ],
   "source": [
    "#Ques 23\n",
    "l1=[1,2,35,36,5,6,70,4,5]\n",
    "l2=[25,65,85,1,3,2,35,5,4]\n",
    "print(\"merge list =\",l1+l2)"
   ]
  },
  {
   "cell_type": "code",
   "execution_count": 145,
   "id": "cba29ed9-eca7-4633-bed2-dbf98dcd07b6",
   "metadata": {},
   "outputs": [
    {
     "name": "stdout",
     "output_type": "stream",
     "text": [
      "[2, 4, 6, 8, 10, 12, 14, 16, 18, 20]\n"
     ]
    }
   ],
   "source": [
    "#Ques 24\n",
    "gyh=[1,2,3,4,5,6,7,8,9,10]\n",
    "multiplied_list=[]\n",
    "for muti in gyh:\n",
    "    each_multiply=muti*2\n",
    "    multiplied_list.append(each_multiply)\n",
    "print(multiplied_list)"
   ]
  },
  {
   "cell_type": "code",
   "execution_count": 147,
   "id": "33df8234-edf8-4093-b576-44ef0ee4b729",
   "metadata": {},
   "outputs": [
    {
     "name": "stdout",
     "output_type": "stream",
     "text": [
      "2\n",
      "4\n",
      "6\n",
      "8\n",
      "10\n"
     ]
    }
   ],
   "source": [
    "#Ques 25\n",
    "evenoddlist=[1,2,3,4,5,6,7,8,9,10]\n",
    "for eveni in evenoddlist:\n",
    "    if eveni%2==0:\n",
    "        print(eveni)"
   ]
  },
  {
   "cell_type": "code",
   "execution_count": 149,
   "id": "b84f4a4f-20ad-4309-a7b2-a0d2619af3e3",
   "metadata": {},
   "outputs": [
    {
     "name": "stdout",
     "output_type": "stream",
     "text": [
      "[1, 2, 85, 450, 650]\n"
     ]
    }
   ],
   "source": [
    "#Ques 26\n",
    "strinteger=[\"1\", \"2\", \"85\", \"450\", \"650\"]\n",
    "integer_list=[]\n",
    "for integr in strinteger:\n",
    "    convert_int=int(integr)\n",
    "    integer_list.append(convert_int)\n",
    "print(integer_list)"
   ]
  },
  {
   "cell_type": "code",
   "execution_count": 151,
   "id": "f6312771-9bfd-4fc3-800c-670d443011f5",
   "metadata": {},
   "outputs": [
    {
     "name": "stdout",
     "output_type": "stream",
     "text": [
      "['1', '2', '3', '4', '5']\n"
     ]
    }
   ],
   "source": [
    "#Ques 27\n",
    "strinr=[1,2,3,4,5]\n",
    "string_list=[]\n",
    "for stri in strinr:\n",
    "    convert_str=str(stri)\n",
    "    string_list.append(convert_str)\n",
    "print(string_list)"
   ]
  },
  {
   "cell_type": "code",
   "execution_count": 153,
   "id": "cd0b8164-c6e1-4134-8805-56062b628b8d",
   "metadata": {},
   "outputs": [
    {
     "name": "stdout",
     "output_type": "stream",
     "text": [
      "[1, 2, 3, 4, 5, 6, 7, 8, 9]\n"
     ]
    }
   ],
   "source": [
    "#Ques 28\n",
    "nested_list = [[1, 2, 3], [4, 5], [6, 7, 8, 9]]\n",
    "flattern_list=sum(nested_list,[])\n",
    "print(flattern_list)"
   ]
  },
  {
   "cell_type": "code",
   "execution_count": 154,
   "id": "f4931c1c-0ceb-4acc-9cb3-c146ac798b94",
   "metadata": {},
   "outputs": [
    {
     "name": "stdout",
     "output_type": "stream",
     "text": [
      "[0, 1, 1, 2, 3, 5, 8, 13, 21, 34]\n"
     ]
    }
   ],
   "source": [
    "#Ques 29\n",
    "fib_list=[]\n",
    "def fib(n):\n",
    "  if n == 0 or n == 1:\n",
    "    return n\n",
    "  else:\n",
    "    return fib(n-1) + fib(n-2)\n",
    "for op in range(0, 10):\n",
    "  fib_list.append(fib(op))\n",
    "print(fib_list)"
   ]
  },
  {
   "cell_type": "code",
   "execution_count": 253,
   "id": "4cb5287e-82dc-449b-a259-54a7edd6ffcb",
   "metadata": {},
   "outputs": [
    {
     "name": "stdout",
     "output_type": "stream",
     "text": [
      "list is sorted\n"
     ]
    }
   ],
   "source": [
    "#Ques 30\n",
    "sqa=[1,2,3,4,5,6,7,8,9]\n",
    "checkin=sorted(sqa)\n",
    "if checkin==sqa:\n",
    "    print(\"list is sorted\")\n",
    "else:\n",
    "    print(\"list is unsorted\")"
   ]
  },
  {
   "cell_type": "code",
   "execution_count": 254,
   "id": "bd4c3fc9-1a53-40c5-ae48-ff0a42615890",
   "metadata": {},
   "outputs": [
    {
     "name": "stdout",
     "output_type": "stream",
     "text": [
      "[3, 4, 5, 6, 7, 8, 9, 1, 2]\n"
     ]
    }
   ],
   "source": [
    "#Ques 31\n",
    "rot_list=[1,2,3,4,5,6,7,8,9]\n",
    "n=2\n",
    "left_rotated_list = rot_list[n:] + rot_list[:n]\n",
    "print(left_rotated_list)"
   ]
  },
  {
   "cell_type": "code",
   "execution_count": 215,
   "id": "b989810f-ac09-43bf-950e-b615c2fbb601",
   "metadata": {},
   "outputs": [
    {
     "name": "stdout",
     "output_type": "stream",
     "text": [
      "[8, 9, 1, 2, 3, 4, 5, 6, 7]\n"
     ]
    }
   ],
   "source": [
    "# Ques 32\n",
    "rotating_list=[1,2,3,4,5,6,7,8,9]\n",
    "n_num=2\n",
    "right_rotated_list = rotating_list[-n_num:] + rotating_list[:-n_num]\n",
    "print(right_rotated_list)"
   ]
  },
  {
   "cell_type": "code",
   "execution_count": 217,
   "id": "361ac802-9e6e-465d-b924-a48a20251784",
   "metadata": {},
   "outputs": [
    {
     "name": "stdout",
     "output_type": "stream",
     "text": [
      "[2, 3, 5, 7, 11, 13, 17, 19, 23, 29, 31, 37, 41, 43, 47]\n"
     ]
    }
   ],
   "source": [
    "#Ques 33\n",
    "prime_list=[]\n",
    "def isPrime(n):\n",
    "    if(n==1 or n==0):  \n",
    "        return False\n",
    "    for i in range(2,n):\n",
    "        if(n%i==0):\n",
    "            return False\n",
    "    return True\n",
    "n=50\n",
    "for i in range(1,n+1):\n",
    "    if(isPrime(i)):\n",
    "        prime_list.append(i)\n",
    "print(prime_list)"
   ]
  },
  {
   "cell_type": "code",
   "execution_count": 218,
   "id": "a4991cd2-e833-4907-be3f-d51303be6a36",
   "metadata": {},
   "outputs": [
    {
     "name": "stdout",
     "output_type": "stream",
     "text": [
      "[1, 2]\n",
      "[3, 4]\n",
      "[5, 6]\n",
      "[7, 8]\n"
     ]
    }
   ],
   "source": [
    "#Ques 34\n",
    "my_ist = [1,2,3,4,5,6,7,8]\n",
    "chunk_size = 2\n",
    "while my_ist: \n",
    "    chunk = my_ist[:chunk_size]\n",
    "    my_ist = my_ist[chunk_size:] \n",
    "    print(chunk)"
   ]
  },
  {
   "cell_type": "code",
   "execution_count": 221,
   "id": "ec3d963a-ac60-47be-8d07-d983152747a9",
   "metadata": {},
   "outputs": [
    {
     "name": "stdout",
     "output_type": "stream",
     "text": [
      "4\n"
     ]
    }
   ],
   "source": [
    "#Ques 35\n",
    "lis=[1,2,3,4,5]\n",
    "removing_max=lis.remove(max(lis))\n",
    "sec_max=max(lis)\n",
    "print(sec_max)"
   ]
  },
  {
   "cell_type": "code",
   "execution_count": 223,
   "id": "038de8a4-1031-492e-957b-58b80c6ff3e1",
   "metadata": {},
   "outputs": [
    {
     "name": "stdout",
     "output_type": "stream",
     "text": [
      "[1, 4, 9, 16, 25]\n"
     ]
    }
   ],
   "source": [
    "#Ques 36\n",
    "ko_list=[1,2,3,4,5]\n",
    "squ_list=[]\n",
    "for oo in ko_list:\n",
    "    oo=oo**2\n",
    "    squ_list.append(oo)\n",
    "print(squ_list)"
   ]
  },
  {
   "cell_type": "code",
   "execution_count": 225,
   "id": "601420ae-9b04-47c8-bad4-c18402cb180f",
   "metadata": {},
   "outputs": [
    {
     "name": "stdout",
     "output_type": "stream",
     "text": [
      "{'a': 1, 'b': 2, 'c': 3}\n"
     ]
    }
   ],
   "source": [
    "#Ques 37:\n",
    "def convert(lt):\n",
    "   res_dict = {}\n",
    "   for i in range(0, len(lt), 2):\n",
    "       res_dict[lt[i]] = lt[i + 1]\n",
    "   return res_dict\n",
    "lt = ['a', 1, 'b', 2, 'c', 3]\n",
    "print(convert(lt))"
   ]
  },
  {
   "cell_type": "code",
   "execution_count": 227,
   "id": "69f8bb1e-09e2-4545-b73e-4ab6e31ef9a5",
   "metadata": {},
   "outputs": [
    {
     "name": "stdout",
     "output_type": "stream",
     "text": [
      "[1, 2, 6, 5, 7, 3, 4, 8]\n"
     ]
    }
   ],
   "source": [
    "#Ques 38:\n",
    "import random\n",
    "correct_list = [1,2,3,4,5,6,7,8]\n",
    "random.shuffle(correct_list)\n",
    "print(correct_list)"
   ]
  },
  {
   "cell_type": "code",
   "execution_count": 229,
   "id": "24149a28-28fe-471a-9961-de865cd03c15",
   "metadata": {},
   "outputs": [
    {
     "name": "stdout",
     "output_type": "stream",
     "text": [
      "List of the first 10 factorial numbers: [1, 1, 2, 6, 24, 120, 720, 5040, 40320, 362880]\n"
     ]
    }
   ],
   "source": [
    "#Ques 39:\n",
    "\n",
    "def factorial(no):\n",
    "    if no == 0 or no == 1:\n",
    "        return 1\n",
    "    else:\n",
    "        return no * factorial(no - 1)\n",
    "factorial_numbers = [factorial(p) for p in range(10)]\n",
    "print(\"List of the first 10 factorial numbers:\", factorial_numbers)"
   ]
  },
  {
   "cell_type": "code",
   "execution_count": 231,
   "id": "0d5090dd-12c3-4e80-b680-8fb388c143d7",
   "metadata": {},
   "outputs": [
    {
     "name": "stdout",
     "output_type": "stream",
     "text": [
      "list have at least one common element\n"
     ]
    }
   ],
   "source": [
    "#Ques 40:\n",
    "lits1=[1,2,35,3,36,5,6,70,4,5]\n",
    "lits2=[90,569,9565,8998,4,56,5,9]\n",
    "common_elements=set(lits1)&set(lits2)\n",
    "if common_elements==set():\n",
    "    print(\"list does have at least one common element\")\n",
    "else:\n",
    "    print(\"list have at least one common element\")"
   ]
  },
  {
   "cell_type": "code",
   "execution_count": 233,
   "id": "e35d05b0-4b7d-4214-a750-52ee09278f42",
   "metadata": {},
   "outputs": [
    {
     "name": "stdout",
     "output_type": "stream",
     "text": [
      "empty list []\n"
     ]
    }
   ],
   "source": [
    "#Ques 41:\n",
    "rem_list=[1,2,35,3,36,5,6,70,4,5]\n",
    "rem_list.clear()\n",
    "print(\"empty list\",rem_list)"
   ]
  },
  {
   "cell_type": "code",
   "execution_count": 235,
   "id": "5994af56-d51f-4c87-af25-6c3e1232bd6c",
   "metadata": {},
   "outputs": [
    {
     "name": "stdout",
     "output_type": "stream",
     "text": [
      "[1, 2, 3, 4, 0, 6, 0, 0, 25]\n"
     ]
    }
   ],
   "source": [
    "#Ques 42:\n",
    "mixed_list=[1,2,3,4,-5,6,-3565,-8,25]\n",
    "for negi in range(len(mixed_list)):\n",
    "    if mixed_list[negi]<0:\n",
    "        mixed_list[negi]=0\n",
    "print(mixed_list)"
   ]
  },
  {
   "cell_type": "code",
   "execution_count": 237,
   "id": "95e985dc-e29b-46fd-b432-ba78341b319f",
   "metadata": {},
   "outputs": [
    {
     "name": "stdout",
     "output_type": "stream",
     "text": [
      "list of words in list ['what', 'is', 'your', 'profession']\n"
     ]
    }
   ],
   "source": [
    "#Ques 43:\n",
    "stringgg='what is your profession'\n",
    "print(\"list of words in list\", stringgg.split())\n",
    "    "
   ]
  },
  {
   "cell_type": "code",
   "execution_count": 239,
   "id": "1fca35f1-14a5-4641-a3f8-ea8a0b51b89a",
   "metadata": {},
   "outputs": [
    {
     "name": "stdout",
     "output_type": "stream",
     "text": [
      "The string of word :- what is your profession\n"
     ]
    }
   ],
   "source": [
    "#Ques 44:\n",
    "listtt=['what', 'is', 'your', 'profession']\n",
    "print(\"The string of word :-\",\" \".join(listtt))"
   ]
  },
  {
   "cell_type": "code",
   "execution_count": 241,
   "id": "b257f9d8-cbe3-468b-bd5e-5b3a5695d4a4",
   "metadata": {},
   "outputs": [
    {
     "name": "stdout",
     "output_type": "stream",
     "text": [
      "[1, 2, 4, 8, 16, 32, 64, 128, 256, 512]\n"
     ]
    }
   ],
   "source": [
    "#Ques 45:\n",
    "power2_list=[]\n",
    "for io in range(10):\n",
    "    io=pow(2,io)\n",
    "    power2_list.append(io)\n",
    "print(power2_list)"
   ]
  },
  {
   "cell_type": "code",
   "execution_count": 243,
   "id": "51b3ef8e-465a-4f70-80c2-d2824e7d0640",
   "metadata": {},
   "outputs": [
    {
     "name": "stdout",
     "output_type": "stream",
     "text": [
      "profession\n"
     ]
    }
   ],
   "source": [
    "#Ques 46:\n",
    "long_list = ['what', 'is', 'your', 'profession']\n",
    "print(max(long_list,key=len))"
   ]
  },
  {
   "cell_type": "code",
   "execution_count": 245,
   "id": "4a616b06-7849-4643-908c-54fd086b2175",
   "metadata": {},
   "outputs": [
    {
     "name": "stdout",
     "output_type": "stream",
     "text": [
      "is\n"
     ]
    }
   ],
   "source": [
    "#Ques 47:\n",
    "short_list = ['what', 'is', 'your', 'profession']\n",
    "print(min(short_list,key=len))"
   ]
  },
  {
   "cell_type": "code",
   "execution_count": 247,
   "id": "58108f9e-d101-41f7-9a57-b4cad3c01ece",
   "metadata": {},
   "outputs": [
    {
     "name": "stdout",
     "output_type": "stream",
     "text": [
      "triangular numbers = [1, 3, 6, 10, 15, 21, 28, 36, 45]\n"
     ]
    }
   ],
   "source": [
    "#Ques 48:\n",
    "triangular_numbers=[]\n",
    "for n in range(1,10):\n",
    "    i=(n * (n + 1) // 2)\n",
    "    triangular_numbers.append(i)\n",
    "print(\"triangular numbers =\",triangular_numbers)"
   ]
  },
  {
   "cell_type": "code",
   "execution_count": 249,
   "id": "9c8b2fb1-3b4b-4238-84bc-efd1d2468c62",
   "metadata": {},
   "outputs": [
    {
     "name": "stdout",
     "output_type": "stream",
     "text": [
      "True\n"
     ]
    }
   ],
   "source": [
    "#Ques 49:\n",
    "def is_sublist(A, B):\n",
    "    if not A:\n",
    "        return True\n",
    "    if not B:\n",
    "        return False\n",
    "    if A[0] == B[0]:\n",
    "        return is_sublist(A[1:], B[1:])\n",
    "    return is_sublist(A, B[1:])\n",
    "A = [1, 2]\n",
    "B = [1, 2, 3, 1, 1, 2, 2]\n",
    "res = is_sublist(A, B)\n",
    "print(res)\n",
    " "
   ]
  },
  {
   "cell_type": "code",
   "execution_count": 250,
   "id": "d0511e9b-03f2-4653-a09c-d374191126e9",
   "metadata": {},
   "outputs": [
    {
     "name": "stdout",
     "output_type": "stream",
     "text": [
      "[1, 2, 544, 45, 544, 4846, 3]\n"
     ]
    }
   ],
   "source": [
    " \n",
    "#Ques 50:\n",
    "swap_list=[1,2,3,45,544,4846,544]\n",
    "index_1=2\n",
    "index_2=6\n",
    "temporary=swap_list[index_1]\n",
    "swap_list[index_1]=swap_list[index_2]\n",
    "swap_list[index_2]=temporary\n",
    "print(swap_list)"
   ]
  },
  {
   "cell_type": "code",
   "execution_count": null,
   "id": "14b61e6f-8b33-4b40-a4da-e9fc0064fca8",
   "metadata": {},
   "outputs": [],
   "source": []
  },
  {
   "cell_type": "markdown",
   "id": "25fecf2e-4706-4046-ba65-3d9d4a707cba",
   "metadata": {},
   "source": [
    "# # Topic 3 : tuple based assignment problem"
   ]
  },
  {
   "cell_type": "code",
   "execution_count": 255,
   "id": "a1b292c2-602d-47de-883a-acd7e9124dbb",
   "metadata": {},
   "outputs": [
    {
     "name": "stdout",
     "output_type": "stream",
     "text": [
      "(1, 2, 3, 4, 5)\n"
     ]
    }
   ],
   "source": [
    "#Ques 1\n",
    "tuple_1to5=tuple(range(1,6))\n",
    "print(tuple_1to5)"
   ]
  },
  {
   "cell_type": "code",
   "execution_count": 257,
   "id": "d469087d-3414-42d6-ad84-ea32c94cc19a",
   "metadata": {},
   "outputs": [
    {
     "name": "stdout",
     "output_type": "stream",
     "text": [
      "the third element of tuple is 1\n"
     ]
    }
   ],
   "source": [
    "#Ques 2\n",
    "tuple2=(12,15,1,3,16,45)\n",
    "accesing_tuple=tuple2[2]\n",
    "print(\"the third element of tuple is\",accesing_tuple)"
   ]
  },
  {
   "cell_type": "code",
   "execution_count": 259,
   "id": "d8199144-5a43-4e55-9803-a215b172a521",
   "metadata": {},
   "outputs": [
    {
     "name": "stdout",
     "output_type": "stream",
     "text": [
      "the length of tuple is 6\n"
     ]
    }
   ],
   "source": [
    "#Ques 3\n",
    "tuple3=(12,15,1,3,16,45)\n",
    "counting_tuple=0\n",
    "for i in tuple3:\n",
    "    counting_tuple=counting_tuple+1\n",
    "print(\"the length of tuple is\",counting_tuple)"
   ]
  },
  {
   "cell_type": "code",
   "execution_count": 261,
   "id": "ba3205b1-ac12-4ae2-a354-e754948d10cd",
   "metadata": {},
   "outputs": [
    {
     "name": "stdout",
     "output_type": "stream",
     "text": [
      "number 2 is appears in a tuple 4  times\n"
     ]
    }
   ],
   "source": [
    "#Ques 4\n",
    "tuple4=(12,15,2,6,1,2,3,16,2,5565,2,45)\n",
    "print(f\"number 2 is appears in a tuple {tuple4.count(2)}  times\")"
   ]
  },
  {
   "cell_type": "code",
   "execution_count": 263,
   "id": "37f8b402-ffb0-4f10-9b36-dc5f3e401f2e",
   "metadata": {},
   "outputs": [
    {
     "name": "stdout",
     "output_type": "stream",
     "text": [
      "the first occcurence of number 2 in tuple is at index 3 \n"
     ]
    }
   ],
   "source": [
    "#Ques 5\n",
    "tuple5=(12,15,3,2,6,1,2,3,16,2,5565,2,45)\n",
    "print(f\"the first occcurence of number 2 in tuple is at index {tuple5.index(2)} \")"
   ]
  },
  {
   "cell_type": "code",
   "execution_count": 265,
   "id": "9b24a4e2-fb41-4316-ab23-cf10a1c03982",
   "metadata": {},
   "outputs": [
    {
     "name": "stdout",
     "output_type": "stream",
     "text": [
      "The element 6 is exist in a tuple is True\n"
     ]
    }
   ],
   "source": [
    "#Ques 6\n",
    "tuple6=(12,15,3,2,6,1,2,3,16,2,5565,2,45)\n",
    "print(\"The element 6 is exist in a tuple is\",6 in tuple6)"
   ]
  },
  {
   "cell_type": "code",
   "execution_count": 267,
   "id": "b1103441-d246-418c-9755-a8c5bb45dc04",
   "metadata": {},
   "outputs": [
    {
     "name": "stdout",
     "output_type": "stream",
     "text": [
      "The conversion of tuple into list  is as follows [12, 15, 3, 2, 6, 1, 2, 3, 16, 2, 5565, 2, 45]\n"
     ]
    }
   ],
   "source": [
    "#Ques 7\n",
    "tuple7=(12,15,3,2,6,1,2,3,16,2,5565,2,45)\n",
    "list__7=list(tuple7)\n",
    "print(\"The conversion of tuple into list  is as follows\",list__7)"
   ]
  },
  {
   "cell_type": "code",
   "execution_count": 269,
   "id": "835b6c9c-5061-4fc6-ae63-4807a493b553",
   "metadata": {},
   "outputs": [
    {
     "name": "stdout",
     "output_type": "stream",
     "text": [
      "The conversion of list into tuple  is as follows (12, 15, 3, 2, 6, 1, 2, 3, 16, 2)\n"
     ]
    }
   ],
   "source": [
    "#Ques 8\n",
    "list_8=[12,15,3,2,6,1,2,3,16,2]\n",
    "tuples_8=tuple(list_8)\n",
    "print(\"The conversion of list into tuple  is as follows\",tuples_8)"
   ]
  },
  {
   "cell_type": "code",
   "execution_count": 271,
   "id": "d89db1ce-1c4f-4149-abc3-76d3ad97acce",
   "metadata": {},
   "outputs": [
    {
     "name": "stdout",
     "output_type": "stream",
     "text": [
      "variable1 =  100 \n",
      "variable2 =  200 \n",
      "variable3 =  300 \n",
      "variable4 =  400\n"
     ]
    }
   ],
   "source": [
    "#Ques 9\n",
    "tuple9=(100,200,300,400)\n",
    "vari1,vari2,vari3,vari4=tuple9\n",
    "print(\"variable1 = \",vari1,\"\\n\"\n",
    "    \"variable2 = \" ,vari2,\"\\n\"\n",
    "    \"variable3 = \" ,vari3,\"\\n\"\n",
    "    \"variable4 = \" ,vari4 )"
   ]
  },
  {
   "cell_type": "code",
   "execution_count": 274,
   "id": "54d8b6ba-2b7e-4507-ac4c-7b3fd9caf973",
   "metadata": {},
   "outputs": [
    {
     "name": "stdout",
     "output_type": "stream",
     "text": [
      "Tuple of even number (2, 4, 6, 8, 10)\n"
     ]
    }
   ],
   "source": [
    "#Ques 10\n",
    "even_lt=[]\n",
    "even_tuple=()\n",
    "for lcd in range(1,11):\n",
    "    if lcd%2==0:\n",
    "        even_lt.append(lcd)\n",
    "        even_tuple=tuple(even_lt)\n",
    "print(\"Tuple of even number\",even_tuple)"
   ]
  },
  {
   "cell_type": "code",
   "execution_count": 276,
   "id": "515cdccd-5d4e-4447-b810-c2b844c05f6a",
   "metadata": {},
   "outputs": [
    {
     "name": "stdout",
     "output_type": "stream",
     "text": [
      "Tuple of odd number (1, 3, 5, 7, 9)\n"
     ]
    }
   ],
   "source": [
    "#Ques 11\n",
    "odd_lt=[]\n",
    "odd_tuple=()\n",
    "for led in range(1,11):\n",
    "    if led%2!=0:\n",
    "        odd_lt.append(led)\n",
    "        odd_tuple=tuple(odd_lt)\n",
    "print(\"Tuple of odd number\",odd_tuple)"
   ]
  },
  {
   "cell_type": "code",
   "execution_count": 278,
   "id": "44b40974-ee29-4edb-9769-5e3319947d71",
   "metadata": {},
   "outputs": [
    {
     "name": "stdout",
     "output_type": "stream",
     "text": [
      "Adding two tuples  (1, 2, 3, 4, 5, 6, 7, 8, 9, 10)\n"
     ]
    }
   ],
   "source": [
    "#Ques 12\n",
    "tuple12=(1,2,3,4,5)\n",
    "tuple120=(6,7,8,9,10) \n",
    "print(\"Adding two tuples \",tuple12+tuple120)"
   ]
  },
  {
   "cell_type": "code",
   "execution_count": 280,
   "id": "6e19ea8f-23fb-4fa5-a4f8-f66676ae8097",
   "metadata": {},
   "outputs": [
    {
     "name": "stdout",
     "output_type": "stream",
     "text": [
      "(6, 7, 8, 9, 10, 6, 7, 8, 9, 10, 6, 7, 8, 9, 10)\n"
     ]
    }
   ],
   "source": [
    "#Ques 13\n",
    "tuple13=(6,7,8,9,10) \n",
    "print(tuple13*3)"
   ]
  },
  {
   "cell_type": "code",
   "execution_count": 285,
   "id": "5ec3ccb7-d398-43c4-ac92-6fb638cd5a85",
   "metadata": {},
   "outputs": [
    {
     "name": "stdout",
     "output_type": "stream",
     "text": [
      "empty tuple is True\n",
      "empty tuple is False\n"
     ]
    }
   ],
   "source": [
    "#Ques 14\n",
    "empty_tuple =()\n",
    "filled_tuple =(1, 2, 3)\n",
    "print(\"empty tuple is\",len(empty_tuple)==0)\n",
    "print(\"empty tuple is\",len(filled_tuple)==0)"
   ]
  },
  {
   "cell_type": "code",
   "execution_count": 287,
   "id": "4ec61631-2d51-41fb-b408-13f163bf6482",
   "metadata": {},
   "outputs": [
    {
     "name": "stdout",
     "output_type": "stream",
     "text": [
      "nested tuple = ((1, 2, 3, 4), (True, False), ('hii', 'hello'))\n"
     ]
    }
   ],
   "source": [
    "#Ques 15\n",
    "tuple15=((1,2,3,4),(True,False),(\"hii\",\"hello\"))\n",
    "print(\"nested tuple =\",tuple15)"
   ]
  },
  {
   "cell_type": "code",
   "execution_count": 289,
   "id": "d465f972-3af4-4520-ab1a-1bf7d20916bd",
   "metadata": {},
   "outputs": [
    {
     "name": "stdout",
     "output_type": "stream",
     "text": [
      "accesssing first element in tuple  (1, 2, 3, 4)\n"
     ]
    }
   ],
   "source": [
    "#Ques 16\n",
    "tuple16=((1,2,3,4),(True,False),(\"hii\",\"hello\"))\n",
    "print(\"accesssing first element in tuple \",tuple16[0])"
   ]
  },
  {
   "cell_type": "code",
   "execution_count": 291,
   "id": "20e6cfcd-0a67-4bd5-aff0-f27cbf622640",
   "metadata": {},
   "outputs": [
    {
     "name": "stdout",
     "output_type": "stream",
     "text": [
      "single element tuple (100,)\n"
     ]
    }
   ],
   "source": [
    "#Ques 17\n",
    "tuple17=(100,)\n",
    "print(\"single element tuple\",tuple17)"
   ]
  },
  {
   "cell_type": "code",
   "execution_count": 300,
   "id": "62a09c7d-fb6b-4113-b371-8a521748a6fc",
   "metadata": {},
   "outputs": [
    {
     "name": "stdout",
     "output_type": "stream",
     "text": [
      "tuple18==tuple180 is False \n",
      "tuple18!=tuple180 is True \n",
      "tuple18< tuple180 is True \n",
      "tuple18> tuple180 is False \n",
      "tuple18<=tuple180 is True \n",
      "tuple18>=tuple180 is False\n"
     ]
    }
   ],
   "source": [
    "#Ques 18\n",
    "tuple18=(1,2,3)\n",
    "tuple180=(3,2,1)\n",
    "print(\n",
    "\"tuple18==tuple180 is\",tuple18== tuple180,\"\\n\"\n",
    "\"tuple18!=tuple180 is\",tuple18!=tuple180,\"\\n\"\n",
    "\"tuple18< tuple180 is\",tuple18<tuple180,\"\\n\"\n",
    "\"tuple18> tuple180 is\",tuple18>tuple180,\"\\n\"\n",
    "\"tuple18<=tuple180 is\",tuple18<=tuple180,\"\\n\"\n",
    "\"tuple18>=tuple180 is\",tuple18>=tuple180,\n",
    ")"
   ]
  },
  {
   "cell_type": "code",
   "execution_count": 302,
   "id": "d9085eab-e9f0-4348-8a14-d5f3ba80f7a6",
   "metadata": {},
   "outputs": [
    {
     "ename": "NameError",
     "evalue": "name 'tuple19' is not defined",
     "output_type": "error",
     "traceback": [
      "\u001b[0;31m---------------------------------------------------------------------------\u001b[0m",
      "\u001b[0;31mNameError\u001b[0m                                 Traceback (most recent call last)",
      "Cell \u001b[0;32mIn[302], line 4\u001b[0m\n\u001b[1;32m      2\u001b[0m tuple19\u001b[38;5;241m=\u001b[39m(\u001b[38;5;28;01mTrue\u001b[39;00m,\u001b[38;5;241m12\u001b[39m,\u001b[38;5;241m15\u001b[39m,\u001b[38;5;241m3\u001b[39m,\u001b[38;5;241m2\u001b[39m,\u001b[38;5;241m6\u001b[39m,\u001b[38;5;241m1\u001b[39m,\u001b[38;5;241m2\u001b[39m,\u001b[38;5;241m3\u001b[39m,\u001b[38;5;241m16\u001b[39m,\u001b[38;5;241m2\u001b[39m,\u001b[38;5;241m5565\u001b[39m,\u001b[38;5;241m2\u001b[39m,\u001b[38;5;241m45\u001b[39m)\n\u001b[1;32m      3\u001b[0m \u001b[38;5;28;01mdel\u001b[39;00m(tuple19)\n\u001b[0;32m----> 4\u001b[0m \u001b[38;5;28mprint\u001b[39m(\u001b[43mtuple19\u001b[49m)\n",
      "\u001b[0;31mNameError\u001b[0m: name 'tuple19' is not defined"
     ]
    }
   ],
   "source": [
    "#Ques 19\n",
    "tuple19=(True,12,15,3,2,6,1,2,3,16,2,5565,2,45)\n",
    "del(tuple19)\n",
    "print(tuple19)"
   ]
  },
  {
   "cell_type": "code",
   "execution_count": 304,
   "id": "a2629225-cca3-47cf-9452-fff65e40742e",
   "metadata": {},
   "outputs": [
    {
     "name": "stdout",
     "output_type": "stream",
     "text": [
      "slice of tuple (12, 15, 3, 2)\n"
     ]
    }
   ],
   "source": [
    "#Ques 20\n",
    "tuple20=(True,12,15,3,2,6,1,2,3,16,2,5565,2,45)\n",
    "print(\"slice of tuple\",tuple20[1:5])"
   ]
  },
  {
   "cell_type": "code",
   "execution_count": 306,
   "id": "afdf4c3e-d2cb-4fbc-af67-e6e8d8359b69",
   "metadata": {},
   "outputs": [
    {
     "name": "stdout",
     "output_type": "stream",
     "text": [
      "maximum value in a tuple is  5\n"
     ]
    }
   ],
   "source": [
    "#Ques 21\n",
    "tuple21=(1,2,3,4,5)\n",
    "print(\"maximum value in a tuple is \",max(tuple21))"
   ]
  },
  {
   "cell_type": "code",
   "execution_count": 308,
   "id": "edef42b4-9162-49f4-91c4-e668f2e7f3b3",
   "metadata": {},
   "outputs": [
    {
     "name": "stdout",
     "output_type": "stream",
     "text": [
      "minimum value in a tuple is  1\n"
     ]
    }
   ],
   "source": [
    "#Ques 22\n",
    "tuple22=(1,2,3,4,5)\n",
    "print(\"minimum value in a tuple is \",min(tuple22))"
   ]
  },
  {
   "cell_type": "code",
   "execution_count": 310,
   "id": "7c5d3577-09f7-4a01-acbb-6f81700861b6",
   "metadata": {},
   "outputs": [
    {
     "name": "stdout",
     "output_type": "stream",
     "text": [
      "('p', 'w', 's', 'k', 'i', 'l', 'l', 's')\n"
     ]
    }
   ],
   "source": [
    "# Ques 23\n",
    "string_gs=\"pwskills\"\n",
    "print(tuple(string_gs))"
   ]
  },
  {
   "cell_type": "code",
   "execution_count": 312,
   "id": "cef786e9-b717-40f1-bd63-2e2bcb7d13d3",
   "metadata": {},
   "outputs": [
    {
     "name": "stdout",
     "output_type": "stream",
     "text": [
      "pwskills !\n"
     ]
    }
   ],
   "source": [
    "#Ques 24\n",
    "char_tuple= ('p', 'w', 's', 'k', 'i','l','l', 's', ' ','!')\n",
    "str(char_tuple)\n",
    "print(\"\".join(char_tuple))"
   ]
  },
  {
   "cell_type": "code",
   "execution_count": 314,
   "id": "1ac68c02-ab5f-42ff-99b6-97a924a3d81a",
   "metadata": {},
   "outputs": [
    {
     "name": "stdout",
     "output_type": "stream",
     "text": [
      "('hii', 1, 2, 3, 'hello', True, (5+6j), 10, False, 'ok')\n"
     ]
    }
   ],
   "source": [
    "#Ques 25\n",
    "mix_tuple=(\"hii\",1,2,3,\"hello\",True,5+6j,10,False,\"ok\")\n",
    "print(mix_tuple)"
   ]
  },
  {
   "cell_type": "code",
   "execution_count": 316,
   "id": "5ff18f50-ec71-46d4-bf8f-d081c2283af2",
   "metadata": {},
   "outputs": [
    {
     "name": "stdout",
     "output_type": "stream",
     "text": [
      "False\n",
      "False\n",
      "False\n"
     ]
    }
   ],
   "source": [
    "#Ques 26\n",
    "tuple26   = (1, 2, 3)\n",
    "tuple260  = (1, 2, 3)\n",
    "tuple2600 = (4, 5, 6)\n",
    "print(tuple26 is tuple260)\n",
    "print(tuple260 is tuple2600)\n",
    "print(tuple26 is tuple2600)"
   ]
  },
  {
   "cell_type": "code",
   "execution_count": 318,
   "id": "a511afb6-21d2-437a-bbe9-dcb424f0e463",
   "metadata": {},
   "outputs": [
    {
     "name": "stdout",
     "output_type": "stream",
     "text": [
      "[2, 5, 5.5, 8, 10, 39, 65, 525, 565]\n"
     ]
    }
   ],
   "source": [
    "#Ques 27\n",
    "tuple27=(10,525,5,565,2,65,39,5.5,8)\n",
    "print(sorted(tuple27))"
   ]
  },
  {
   "cell_type": "code",
   "execution_count": 320,
   "id": "047fffb2-2632-4ce1-951b-8f4d057da4b3",
   "metadata": {},
   "outputs": [
    {
     "name": "stdout",
     "output_type": "stream",
     "text": [
      "('1', '2', '3', '4', '5')\n"
     ]
    }
   ],
   "source": [
    "#Ques 28\n",
    "tuple_of_integers = (1, 2, 3, 4, 5)\n",
    "tuple_of_str=[]\n",
    "for iop in tuple_of_integers:\n",
    "    convert_strings=str(iop)\n",
    "    tuple_of_str.append(convert_strings)\n",
    "tuple_of_strings=(tuple(tuple_of_str))\n",
    "print(tuple_of_strings)"
   ]
  },
  {
   "cell_type": "code",
   "execution_count": 322,
   "id": "10689179-4669-414f-8fcc-ff2c6c917b49",
   "metadata": {},
   "outputs": [
    {
     "name": "stdout",
     "output_type": "stream",
     "text": [
      "(10, 20, 30, 40, 50)\n"
     ]
    }
   ],
   "source": [
    "#Ques 29\n",
    "tuple__strings = ('10', '20', '30', '40', '50')\n",
    "tuple__int=[]\n",
    "for iou in tuple__strings:\n",
    "    conver_integers=int(iou)\n",
    "    tuple__int.append(conver_integers)\n",
    "tuple_integers=(tuple(tuple__int))\n",
    "print(tuple_integers)"
   ]
  },
  {
   "cell_type": "code",
   "execution_count": 324,
   "id": "b2058335-49a7-48ca-906f-a4207e8b3a33",
   "metadata": {},
   "outputs": [
    {
     "name": "stdout",
     "output_type": "stream",
     "text": [
      "Adding two tuples  (1, 2, 3, 4, 5, 6, 7, 8, 9, 10)\n"
     ]
    }
   ],
   "source": [
    "#Ques 30\n",
    "tuple30=(1,2,3,4,5)\n",
    "tuple300=(6,7,8,9,10) \n",
    "print(\"Adding two tuples \",tuple30+tuple300)"
   ]
  },
  {
   "cell_type": "code",
   "execution_count": 326,
   "id": "439aa30f-aeff-4f94-b0d6-55f80f63db17",
   "metadata": {},
   "outputs": [
    {
     "name": "stdout",
     "output_type": "stream",
     "text": [
      "(1, 2, 3, 4, True, False, 'hii', 'hello')\n"
     ]
    }
   ],
   "source": [
    "#Ques 31\n",
    "nested_tuple = ((1,2,3,4),(True,False),(\"hii\",\"hello\"))\n",
    "flattern_tuple=sum(nested_tuple,())\n",
    "print(flattern_tuple)"
   ]
  },
  {
   "cell_type": "code",
   "execution_count": 328,
   "id": "96e5b4cf-bc32-49b2-8e2f-6e1f15db1428",
   "metadata": {},
   "outputs": [
    {
     "name": "stdout",
     "output_type": "stream",
     "text": [
      "(2, 3, 5)\n"
     ]
    }
   ],
   "source": [
    "# Ques 32\n",
    "pr_tuple=[]\n",
    "def isPrime(n):\n",
    "    if(n==1 or n==0):  \n",
    "        return False\n",
    "    for i in range(2,n):\n",
    "        if(n%i==0):\n",
    "            return False\n",
    "    return True\n",
    "n=5\n",
    "for i in range(1,n+1):\n",
    "    if(isPrime(i)):\n",
    "        pr_tuple.append(i)\n",
    "prime_tuples=(tuple(pr_tuple))\n",
    "print(prime_tuples)"
   ]
  },
  {
   "cell_type": "code",
   "execution_count": 330,
   "id": "8a80b91d-87d6-42ca-beec-d1a8877775d6",
   "metadata": {},
   "outputs": [
    {
     "name": "stdout",
     "output_type": "stream",
     "text": [
      "the tuple is palindrome is True\n"
     ]
    }
   ],
   "source": [
    "# Ques 33\n",
    "palindrome_tuple = (1, 2, 3, 2, 1)\n",
    "print(\"the tuple is palindrome is\",palindrome_tuple==palindrome_tuple[::-1])"
   ]
  },
  {
   "cell_type": "code",
   "execution_count": 332,
   "id": "4dc42c68-58ff-4daf-9652-d1e581f9771d",
   "metadata": {},
   "outputs": [
    {
     "name": "stdout",
     "output_type": "stream",
     "text": [
      "(1, 4, 9, 16, 25)\n"
     ]
    }
   ],
   "source": [
    "# Ques 34\n",
    "square_tuplelist=[]\n",
    "for we in range(1,6):\n",
    "    we=we*we\n",
    "    square_tuplelist.append(we)\n",
    "square_tuple=tuple(square_tuplelist)\n",
    "print(square_tuple)"
   ]
  },
  {
   "cell_type": "code",
   "execution_count": 334,
   "id": "feb80d95-00c6-4719-b49c-1eccc665cfe3",
   "metadata": {},
   "outputs": [
    {
     "name": "stdout",
     "output_type": "stream",
     "text": [
      "(1, 3, 5, 7, 9)\n"
     ]
    }
   ],
   "source": [
    "# Ques 35\n",
    "evens_tuplelist=[]\n",
    "evodd_tuple=(1,2,3,4,5,6,7,8,9,10)\n",
    "for iv in evodd_tuple:\n",
    "    if iv%2==0:\n",
    "        del(iv)\n",
    "    else:\n",
    "        evens_tuplelist.append(iv)\n",
    "evens_tuple=tuple(evens_tuplelist)\n",
    "print(evens_tuple)"
   ]
  },
  {
   "cell_type": "code",
   "execution_count": 336,
   "id": "83ce2c6b-b169-4a14-b3c9-0bd9599edcc0",
   "metadata": {},
   "outputs": [
    {
     "name": "stdout",
     "output_type": "stream",
     "text": [
      "(2, 4, 6, 8, 10, 12, 14, 16, 18, 20)\n"
     ]
    }
   ],
   "source": [
    "# Ques 36\n",
    "tuple36=(1,2,3,4,5,6,7,8,9,10)\n",
    "multiplied_tuplelist=[]\n",
    "for ic in tuple36:\n",
    "    ic=ic*2\n",
    "    multiplied_tuplelist.append(ic)\n",
    "multi2_tuple=tuple(multiplied_tuplelist)\n",
    "print(multi2_tuple)"
   ]
  },
  {
   "cell_type": "code",
   "execution_count": 338,
   "id": "17b164ed-69b0-40b1-9f08-db9a0b3b36b0",
   "metadata": {},
   "outputs": [
    {
     "name": "stdout",
     "output_type": "stream",
     "text": [
      "(85, 95, 79, 9, 77, 43, 64, 14, 31, 86)\n"
     ]
    }
   ],
   "source": [
    "# Ques 37\n",
    "import random\n",
    "randm_list=[]\n",
    "for rand_num in range(10):\n",
    "    rannum=random.randint(1,100)\n",
    "    randm_list.append(rannum)\n",
    "random_tuple=tuple(randm_list)\n",
    "print(random_tuple)"
   ]
  },
  {
   "cell_type": "code",
   "execution_count": 340,
   "id": "5c388de4-e732-418c-915c-7f7f2ac6139a",
   "metadata": {},
   "outputs": [
    {
     "name": "stdout",
     "output_type": "stream",
     "text": [
      "tuple is sorted is  True\n"
     ]
    }
   ],
   "source": [
    "#Ques 38\n",
    "t_tuple=(1,2,3,4,5,6,7,8,9,10,11)\n",
    "print(\"tuple is sorted is \",t_tuple==tuple(sorted(t_tuple)))"
   ]
  },
  {
   "cell_type": "code",
   "execution_count": 342,
   "id": "c7e227d9-e403-47dc-986e-d628aa7eeee7",
   "metadata": {},
   "outputs": [
    {
     "name": "stdout",
     "output_type": "stream",
     "text": [
      "(3, 4, 5, 6, 7, 8, 9, 1, 2)\n"
     ]
    }
   ],
   "source": [
    "# Ques 39\n",
    "rot_tuple=(1,2,3,4,5,6,7,8,9)\n",
    "n=2\n",
    "left_rotated_tuple = rot_tuple[n:] + rot_tuple[:n]\n",
    "print(left_rotated_tuple)"
   ]
  },
  {
   "cell_type": "code",
   "execution_count": 344,
   "id": "bfdd9284-b6f1-4d7e-bf0c-2bc4bed5f861",
   "metadata": {},
   "outputs": [
    {
     "name": "stdout",
     "output_type": "stream",
     "text": [
      "(8, 9, 1, 2, 3, 4, 5, 6, 7)\n"
     ]
    }
   ],
   "source": [
    "# Ques 40\n",
    "rotating_tuple=(1,2,3,4,5,6,7,8,9)\n",
    "n_num=2\n",
    "right_rotated_tuple = rotating_tuple[-n_num:] + rotating_tuple[:-n_num]\n",
    "print(right_rotated_tuple)"
   ]
  },
  {
   "cell_type": "code",
   "execution_count": 346,
   "id": "a93ca7c5-862c-4a4c-a3b9-596a0437e561",
   "metadata": {},
   "outputs": [
    {
     "name": "stdout",
     "output_type": "stream",
     "text": [
      "(0, 1, 1, 2, 3, 5, 8, 13, 21, 34)\n"
     ]
    }
   ],
   "source": [
    "# Ques 41\n",
    "fibo_tuple=[]\n",
    "def fibo(nuum):\n",
    "  if nuum == 0 or nuum == 1:\n",
    "    return nuum\n",
    "  else:\n",
    "    return fibo(nuum-1) + fibo(nuum-2)\n",
    "for op in range(0, 10):\n",
    "  fibo_tuple.append(fibo(op))\n",
    "print(tuple(fibo_tuple))"
   ]
  },
  {
   "cell_type": "code",
   "execution_count": 352,
   "id": "235fb2f6-d8a4-4ae3-85f2-b340081d6476",
   "metadata": {},
   "outputs": [
    {
     "name": "stdin",
     "output_type": "stream",
     "text": [
      "enter elements seperated by commas hello\n"
     ]
    },
    {
     "name": "stdout",
     "output_type": "stream",
     "text": [
      "('h', 'e', 'l', 'l', 'o')\n"
     ]
    }
   ],
   "source": [
    "# Ques 42\n",
    "i_tuple=((input(\"enter elements seperated by commas\")))\n",
    "i_tuple.split(\",\")\n",
    "converted_tuple=tuple(i_tuple)\n",
    "print((converted_tuple))"
   ]
  },
  {
   "cell_type": "code",
   "execution_count": 354,
   "id": "1458e72f-8938-4e1f-9471-2916638c5f1f",
   "metadata": {},
   "outputs": [
    {
     "name": "stdout",
     "output_type": "stream",
     "text": [
      "(1, 3, 2, 4, 5)\n"
     ]
    }
   ],
   "source": [
    "# Ques 43\n",
    "yu_tuple=(1,2,3,4,5)\n",
    "yu_list=list(yu_tuple)\n",
    "yu_list[1],yu_list[2]=yu_list[2],yu_list[1]\n",
    "yu_tuple=(tuple(yu_list))\n",
    "print(yu_tuple)"
   ]
  },
  {
   "cell_type": "code",
   "execution_count": 356,
   "id": "8610b114-4d52-4a05-a8c8-016503030bde",
   "metadata": {},
   "outputs": [
    {
     "name": "stdout",
     "output_type": "stream",
     "text": [
      "reversed tuple ('pwskills', 5, 4, 3, 2, 1, True)\n"
     ]
    }
   ],
   "source": [
    "# Ques 44\n",
    "rever_tuple=(True,1,2,3,4,5,\"pwskills\")\n",
    "print(\"reversed tuple\",rever_tuple[::-1])"
   ]
  },
  {
   "cell_type": "code",
   "execution_count": 358,
   "id": "57331942-001b-4ce0-a583-90bfcd753b21",
   "metadata": {},
   "outputs": [
    {
     "name": "stdout",
     "output_type": "stream",
     "text": [
      "(1, 2, 4, 8, 16, 32, 64, 128, 256, 512)\n"
     ]
    }
   ],
   "source": [
    "# Ques 45\n",
    "numbr=10\n",
    "numbr_list=[]\n",
    "for i in range(numbr):\n",
    "    i=2**i\n",
    "    numbr_list.append(i)\n",
    "numbr_tuple=(tuple(numbr_list))\n",
    "print(numbr_tuple)"
   ]
  },
  {
   "cell_type": "code",
   "execution_count": 360,
   "id": "30864f6b-60f8-4de3-9e98-56b49955852b",
   "metadata": {},
   "outputs": [
    {
     "name": "stdout",
     "output_type": "stream",
     "text": [
      "longest string in the tuple = Important\n"
     ]
    }
   ],
   "source": [
    "# Ques 46\n",
    "long_string=(\"pwskills\",\"Important\",\"data\",\"science\")\n",
    "print(\"longest string in the tuple =\",max(long_string,key=len))"
   ]
  },
  {
   "cell_type": "code",
   "execution_count": 362,
   "id": "231e21e8-a47e-4ac5-9ba1-ef7f75ee9307",
   "metadata": {},
   "outputs": [
    {
     "name": "stdout",
     "output_type": "stream",
     "text": [
      "longest string in the tuple = data\n"
     ]
    }
   ],
   "source": [
    "# Ques 47\n",
    "short_string=(\"pwskills\",\"Important\",\"data\",\"science\")\n",
    "print(\"longest string in the tuple =\",min(short_string,key=len))"
   ]
  },
  {
   "cell_type": "code",
   "execution_count": 364,
   "id": "58ec8a20-3a3e-49c9-aff0-87a006eaca86",
   "metadata": {},
   "outputs": [
    {
     "name": "stdout",
     "output_type": "stream",
     "text": [
      "triangular numbers in tuple = (1, 3, 6, 10, 15, 21, 28, 36, 45)\n"
     ]
    }
   ],
   "source": [
    "# Ques 48\n",
    "trian_num=[]\n",
    "for n in range(1,10):\n",
    "    i=(n * (n + 1) // 2)\n",
    "    trian_num.append(i)\n",
    "print(\"triangular numbers in tuple =\",tuple(trian_num))"
   ]
  },
  {
   "cell_type": "code",
   "execution_count": 366,
   "id": "abecf996-69c8-4d8a-a420-cf23de8a2fb8",
   "metadata": {},
   "outputs": [
    {
     "name": "stdout",
     "output_type": "stream",
     "text": [
      "True\n"
     ]
    }
   ],
   "source": [
    "# Ques 49\n",
    "def is_sublist(A, B):\n",
    "    if not A:\n",
    "        return True\n",
    "    if not B:\n",
    "        return False\n",
    "    if A[0] == B[0]:\n",
    "        return is_sublist(A[1:], B[1:])\n",
    "    return is_sublist(A, B[1:])\n",
    "A = (1, 2)\n",
    "B = (1, 2, 3, 1, 1, 2, 2)\n",
    "rest = is_sublist(A, B)\n",
    "print(rest)"
   ]
  },
  {
   "cell_type": "code",
   "execution_count": 367,
   "id": "c110233a-6c90-4a62-8a6b-de8eac84dd8a",
   "metadata": {},
   "outputs": [
    {
     "name": "stdout",
     "output_type": "stream",
     "text": [
      "Tuple of alternating 1s and 0s (0, 1, 0, 1, 0, 1, 0, 1, 0, 1)\n"
     ]
    }
   ],
   "source": [
    "# Ques50\n",
    "nor=10\n",
    "alternate_list=[]\n",
    "for nb in range(nor):\n",
    "    nb=nb%2\n",
    "    alternate_list.append(nb)\n",
    "print(\"Tuple of alternating 1s and 0s\",tuple(alternate_list))"
   ]
  },
  {
   "cell_type": "code",
   "execution_count": null,
   "id": "38f1d95e-02d9-40ef-8c82-dba97d56bb29",
   "metadata": {},
   "outputs": [],
   "source": []
  },
  {
   "cell_type": "markdown",
   "id": "b19cde9a-1898-4fd7-ac3e-6ffe1b25b4fb",
   "metadata": {},
   "source": [
    "# # Topic 4 : set based assignment problem"
   ]
  },
  {
   "cell_type": "code",
   "execution_count": 369,
   "id": "c7194ea6-40f5-4ce8-943b-d77aa326ca55",
   "metadata": {},
   "outputs": [
    {
     "name": "stdout",
     "output_type": "stream",
     "text": [
      "{1, 2, 3, 4, 5}\n"
     ]
    }
   ],
   "source": [
    "# Ques 01\n",
    "print(set(range(1,6)))"
   ]
  },
  {
   "cell_type": "code",
   "execution_count": 371,
   "id": "677faf72-763b-4726-95fa-c014ddb77f66",
   "metadata": {},
   "outputs": [
    {
     "name": "stdout",
     "output_type": "stream",
     "text": [
      "{1, 2, 3, 4, 5, 6}\n"
     ]
    }
   ],
   "source": [
    "# Ques 02\n",
    "set2={1,2,3,4,5}\n",
    "set2.add(6)\n",
    "print(set2)"
   ]
  },
  {
   "cell_type": "code",
   "execution_count": 373,
   "id": "22273466-2b58-4958-b397-20435bb52ba7",
   "metadata": {},
   "outputs": [
    {
     "name": "stdout",
     "output_type": "stream",
     "text": [
      "{1, 3, 4, 5}\n"
     ]
    }
   ],
   "source": [
    "# Ques 03\n",
    "set3={1,2,3,4,5}\n",
    "set3.remove(2)\n",
    "print(set3)"
   ]
  },
  {
   "cell_type": "code",
   "execution_count": 375,
   "id": "fcff65f2-b00f-470a-9de4-9ec33dbc6ee7",
   "metadata": {},
   "outputs": [
    {
     "name": "stdout",
     "output_type": "stream",
     "text": [
      "number 2 is exists i n a set is True\n"
     ]
    }
   ],
   "source": [
    "# Ques 04\n",
    "set4={1,2,3,4,5}\n",
    "print(\"number 2 is exists i n a set is\",2 in set4)"
   ]
  },
  {
   "cell_type": "code",
   "execution_count": 377,
   "id": "175c3d89-0189-4a72-a516-957acc319021",
   "metadata": {},
   "outputs": [
    {
     "name": "stdout",
     "output_type": "stream",
     "text": [
      "6\n"
     ]
    }
   ],
   "source": [
    "# Ques 5\n",
    "set5={1,2,3,4,5}\n",
    "count_lengh={}\n",
    "for count_lengh in set5:\n",
    "    count_lengh=count_lengh + 1\n",
    "print(count_lengh)"
   ]
  },
  {
   "cell_type": "code",
   "execution_count": 379,
   "id": "e24e56dd-00e3-416d-b0d8-b5dc8da2aca6",
   "metadata": {},
   "outputs": [
    {
     "name": "stdout",
     "output_type": "stream",
     "text": [
      "set()\n"
     ]
    }
   ],
   "source": [
    "# Ques 6\n",
    "set6={1,2,3,4,5}\n",
    "set6.clear()\n",
    "print(set6)"
   ]
  },
  {
   "cell_type": "code",
   "execution_count": 381,
   "id": "58fb3bc2-f9cd-41a5-bf94-2d839ac5244c",
   "metadata": {},
   "outputs": [
    {
     "name": "stdout",
     "output_type": "stream",
     "text": [
      "{2, 4, 6, 8, 10}\n"
     ]
    }
   ],
   "source": [
    "# Ques 7\n",
    "even_set=set()\n",
    "for lk in range(1,11):\n",
    "    if lk%2==0:\n",
    "        even_set.add(lk)\n",
    "print(even_set)"
   ]
  },
  {
   "cell_type": "code",
   "execution_count": 383,
   "id": "cffbbf0a-4d36-42a3-a375-0e261a1136af",
   "metadata": {},
   "outputs": [
    {
     "name": "stdout",
     "output_type": "stream",
     "text": [
      "{1, 3, 5, 7, 9}\n"
     ]
    }
   ],
   "source": [
    "# Ques 8\n",
    "odd_set=set()\n",
    "for lkk in range(1,11):\n",
    "    if lkk%2!=0:\n",
    "        odd_set.add(lkk)\n",
    "print(odd_set)"
   ]
  },
  {
   "cell_type": "code",
   "execution_count": 386,
   "id": "1de9c5e6-78ca-4c36-9489-f12c328a2476",
   "metadata": {},
   "outputs": [
    {
     "name": "stdout",
     "output_type": "stream",
     "text": [
      "{1, 2, 3, 4, 5, 6, 7, 8}\n"
     ]
    }
   ],
   "source": [
    "# Ques 9\n",
    "set9 = {1, 2, 3, 4, 5}\n",
    "set90 = {4, 5, 6, 7, 8}\n",
    "union_set=set9.union (set90)\n",
    "print(union_set)"
   ]
  },
  {
   "cell_type": "code",
   "execution_count": 388,
   "id": "715b753d-f138-4f34-95ea-1f420507cf92",
   "metadata": {},
   "outputs": [
    {
     "name": "stdout",
     "output_type": "stream",
     "text": [
      "{4, 5}\n"
     ]
    }
   ],
   "source": [
    "# Ques 10\n",
    "set10 = {1, 2, 3, 4, 5}\n",
    "set100 = {4, 5, 6, 7, 8}\n",
    "intersection_set=set10.intersection (set100)\n",
    "print(intersection_set)"
   ]
  },
  {
   "cell_type": "code",
   "execution_count": 390,
   "id": "ed540bad-d80b-4ee6-a9ab-f160fab69357",
   "metadata": {},
   "outputs": [
    {
     "name": "stdout",
     "output_type": "stream",
     "text": [
      "{1, 2, 3}\n"
     ]
    }
   ],
   "source": [
    "# Ques 11\n",
    "set11 = {1, 2, 3, 4, 5}\n",
    "set110 = {4, 5, 6, 7, 8}\n",
    "difference_set=set11.difference(set110)\n",
    "print(difference_set)"
   ]
  },
  {
   "cell_type": "code",
   "execution_count": 392,
   "id": "18e14f39-ac66-4dbc-a880-0b19f7208f9b",
   "metadata": {},
   "outputs": [
    {
     "name": "stdout",
     "output_type": "stream",
     "text": [
      "First set is subset of second set is True\n"
     ]
    }
   ],
   "source": [
    "# Ques 12\n",
    "set12 = {4, 5}\n",
    "set120 = {4, 5, 6, 7, 8}\n",
    "print(\"First set is subset of second set is\",set12.issubset(set120))"
   ]
  },
  {
   "cell_type": "code",
   "execution_count": 394,
   "id": "889201f5-73e0-4d3f-b42b-f0f7b6c37479",
   "metadata": {},
   "outputs": [
    {
     "name": "stdout",
     "output_type": "stream",
     "text": [
      "First set is superset of second set is True\n"
     ]
    }
   ],
   "source": [
    "#Ques 13\n",
    "set13 = {4, 5, 6, 7, 8}\n",
    "set130 = {4, 5}\n",
    "print(\"First set is superset of second set is\",set13.issuperset(set130))"
   ]
  },
  {
   "cell_type": "code",
   "execution_count": 396,
   "id": "e425348f-e6bf-4106-8a24-eb3cc65414ab",
   "metadata": {},
   "outputs": [
    {
     "name": "stdout",
     "output_type": "stream",
     "text": [
      "converted set {1, 2, 3, 4}\n"
     ]
    }
   ],
   "source": [
    "# Ques 14\n",
    "setlist14=[1,2,3,4]\n",
    "set14=set(setlist14)\n",
    "print(\"converted set\",set14)"
   ]
  },
  {
   "cell_type": "code",
   "execution_count": 398,
   "id": "ef413ad8-833b-466e-8032-6f42e4063c8c",
   "metadata": {},
   "outputs": [
    {
     "name": "stdout",
     "output_type": "stream",
     "text": [
      "converted set [1, 2, 3, 4]\n"
     ]
    }
   ],
   "source": [
    "# Ques 15\n",
    "setlist15={1,2,3,4}\n",
    "list15=list(setlist15)\n",
    "print(\"converted set\",list15)"
   ]
  },
  {
   "cell_type": "code",
   "execution_count": 401,
   "id": "f4828373-305e-403a-9629-6670ece71660",
   "metadata": {},
   "outputs": [
    {
     "name": "stdout",
     "output_type": "stream",
     "text": [
      "5\n"
     ]
    }
   ],
   "source": [
    "# Ques 16\n",
    "import random\n",
    "randm_set={1,2,3,4,5,6,7,8,9}\n",
    "random_element = random.choice(list(randm_set))\n",
    "randm_set.remove(random_element)\n",
    "print(random_element)"
   ]
  },
  {
   "cell_type": "code",
   "execution_count": 403,
   "id": "f6cae8b2-92af-4657-9f87-e17fb1ad7f42",
   "metadata": {},
   "outputs": [
    {
     "name": "stdout",
     "output_type": "stream",
     "text": [
      "{2, 3, 4, 5, 6, 7, 8, 9}\n"
     ]
    }
   ],
   "source": [
    "# Ques 17\n",
    "set17={1,2,3,4,5,6,7,8,9}\n",
    "set17.pop()\n",
    "print(set17)"
   ]
  },
  {
   "cell_type": "code",
   "execution_count": 405,
   "id": "b596c983-40f6-47cd-8f52-adb06f7b4b4e",
   "metadata": {},
   "outputs": [
    {
     "name": "stdout",
     "output_type": "stream",
     "text": [
      "The two sets have common elements: {3, 4}\n"
     ]
    }
   ],
   "source": [
    "\n",
    "# Ques 18\n",
    "set18 = {1, 2, 3, 4}\n",
    "set180 = {4,3,7, 8}\n",
    "common_elements = set18.intersection(set180)\n",
    "if not common_elements:\n",
    "    print(\"The two sets have no elements in common.\")\n",
    "else:\n",
    "    print(\"The two sets have common elements:\", common_elements)"
   ]
  },
  {
   "cell_type": "code",
   "execution_count": 406,
   "id": "f70ef7be-a125-4be5-b671-2949b1f7eafa",
   "metadata": {},
   "outputs": [
    {
     "name": "stdout",
     "output_type": "stream",
     "text": [
      "symmetric difference {1, 2, 3, 6, 7, 8}\n"
     ]
    }
   ],
   "source": [
    "# Ques 19\n",
    "set19 = {1, 2, 3, 4, 5}\n",
    "set190 = {4, 5, 6, 7, 8}\n",
    "symmetric_difference=set19^set190\n",
    "print(\"symmetric difference\",symmetric_difference)"
   ]
  },
  {
   "cell_type": "code",
   "execution_count": 408,
   "id": "671bdeb4-7b8f-40cb-97b3-3c993cf02ae5",
   "metadata": {},
   "outputs": [
    {
     "name": "stdout",
     "output_type": "stream",
     "text": [
      "{1, 2, 3, 4, 5, 6, 7, 8}\n"
     ]
    }
   ],
   "source": [
    "# Ques 20\n",
    "set20 = {1, 2, 3, 4, 5}\n",
    "set200 = {4, 5, 6, 7, 8}\n",
    "set20.update(set200)\n",
    "print(set20)"
   ]
  },
  {
   "cell_type": "code",
   "execution_count": 410,
   "id": "b83e2004-9a07-4c94-bdb0-3e93bdd1221e",
   "metadata": {},
   "outputs": [
    {
     "name": "stdout",
     "output_type": "stream",
     "text": [
      "Set of first 5 prime numbers: {2, 3, 5, 7, 11}\n"
     ]
    }
   ],
   "source": [
    "# Ques 21\n",
    "def is_prime(numer):\n",
    "    if numer <= 1:\n",
    "        return False\n",
    "    for i in range(2, int(numer ** 0.5) + 1):\n",
    "        if numer % i == 0:\n",
    "            return False\n",
    "    return True\n",
    "prime_set = set()\n",
    "numer = 2\n",
    "while len(prime_set) < 5:\n",
    "    if is_prime(numer):\n",
    "        prime_set.add(numer)\n",
    "    numer += 1\n",
    "print(\"Set of first 5 prime numbers:\", prime_set)"
   ]
  },
  {
   "cell_type": "code",
   "execution_count": 412,
   "id": "be26f23c-b540-4112-adbb-2d1682e75d0d",
   "metadata": {},
   "outputs": [
    {
     "name": "stdout",
     "output_type": "stream",
     "text": [
      "sets are identical\n"
     ]
    }
   ],
   "source": [
    "# Ques 22\n",
    "set22={1, 2, 3, 4, 5}\n",
    "set220={3,1,5,2,4}\n",
    "if set22==set220:\n",
    "    print(\"sets are identical\")\n",
    "else:\n",
    "    print(\"sets are not identical\")"
   ]
  },
  {
   "cell_type": "code",
   "execution_count": 414,
   "id": "3b070e1b-2e2e-4ae0-9503-e88efff9d1cd",
   "metadata": {},
   "outputs": [
    {
     "name": "stdout",
     "output_type": "stream",
     "text": [
      "frozen set frozenset({1, 2, 3, 44, 56})\n"
     ]
    }
   ],
   "source": [
    "# Ques 23\n",
    "set_list23=[1,2,3,44,56]\n",
    "frozen_set=frozenset(set_list23)\n",
    "print(\"frozen set\",frozen_set)"
   ]
  },
  {
   "cell_type": "code",
   "execution_count": 416,
   "id": "bc2497c4-6f90-4511-941d-806fdd3f7d73",
   "metadata": {},
   "outputs": [
    {
     "name": "stdout",
     "output_type": "stream",
     "text": [
      "set is disjoint with another set is True\n"
     ]
    }
   ],
   "source": [
    "# Ques 24\n",
    "set23 = {1, 2, 3, 4}\n",
    "set230= {5, 6, 7, 8}\n",
    "print(\"set is disjoint with another set is\",set23.isdisjoint(set230))"
   ]
  },
  {
   "cell_type": "code",
   "execution_count": 418,
   "id": "22bc305f-c8d4-4e4a-80c2-23762096a89e",
   "metadata": {},
   "outputs": [
    {
     "name": "stdout",
     "output_type": "stream",
     "text": [
      "{1, 4, 9, 16, 25}\n"
     ]
    }
   ],
   "source": [
    "# Ques 25\n",
    "square_set=set()\n",
    "for sq_set in range(1,6):\n",
    "    sq_set=sq_set**2\n",
    "    square_set.add(sq_set)\n",
    "print(square_set)"
   ]
  },
  {
   "cell_type": "code",
   "execution_count": 420,
   "id": "74831cce-79c4-4afb-b02c-82d9b76b0fe9",
   "metadata": {},
   "outputs": [
    {
     "name": "stdout",
     "output_type": "stream",
     "text": [
      "{2, 4, 6}\n"
     ]
    }
   ],
   "source": [
    "# Ques 26\n",
    "set26 = {1, 2, 3, 4, 5, 6}\n",
    "filter_even=set()\n",
    "for filt_even in set26:\n",
    "    if filt_even%2==0:\n",
    "        filter_even.add(filt_even)\n",
    "print(filter_even)"
   ]
  },
  {
   "cell_type": "code",
   "execution_count": 422,
   "id": "141afab0-f186-4f2e-91cc-34296b3b0288",
   "metadata": {},
   "outputs": [
    {
     "name": "stdout",
     "output_type": "stream",
     "text": [
      "{2, 4, 6, 8, 10, 12}\n"
     ]
    }
   ],
   "source": [
    "# Ques 27\n",
    "set27 = {1, 2, 3, 4, 5, 6}\n",
    "multi2set=set()\n",
    "for  itera in set27:\n",
    "    itera=itera*2\n",
    "    multi2set.add(itera)\n",
    "print(multi2set)"
   ]
  },
  {
   "cell_type": "code",
   "execution_count": 424,
   "id": "ab5705bd-ed23-44c4-b489-ee0b1dffcd12",
   "metadata": {},
   "outputs": [
    {
     "name": "stdout",
     "output_type": "stream",
     "text": [
      "{32, 2, 3, 100, 73, 14, 81, 50, 52}\n"
     ]
    }
   ],
   "source": [
    "\n",
    "# Ques 28\n",
    "import random\n",
    "random_set=set()\n",
    "for rand_num in range(10):\n",
    "    rannum=random.randint(1,100)\n",
    "    random_set.add(rannum)\n",
    "print(random_set)"
   ]
  },
  {
   "cell_type": "code",
   "execution_count": 426,
   "id": "8f47e413-6d9b-43a8-b4b1-0fa20242ab1b",
   "metadata": {},
   "outputs": [
    {
     "name": "stdout",
     "output_type": "stream",
     "text": [
      "set is empty\n"
     ]
    }
   ],
   "source": [
    "# Ques 29\n",
    "set29=set()\n",
    "if not set29:\n",
    "    print(\"set is empty\")\n",
    "else:\n",
    "    print(\"set is not empty\")"
   ]
  },
  {
   "cell_type": "code",
   "execution_count": 428,
   "id": "968d0758-67fc-494b-9fb2-4c6fd4609a4f",
   "metadata": {},
   "outputs": [
    {
     "name": "stdout",
     "output_type": "stream",
     "text": [
      "Nested Set: {frozenset({1, 2, 3, 4, 5})}\n"
     ]
    }
   ],
   "source": [
    "# Ques 30\n",
    "set30= {1, 2, 3, 4, 5}\n",
    "frozen_set30 = frozenset(set30)\n",
    "nested_set = {frozen_set30}\n",
    "print(\"Nested Set:\", nested_set)"
   ]
  },
  {
   "cell_type": "code",
   "execution_count": 430,
   "id": "1877d2f0-5538-42c2-aa0e-d31e9d79e5fc",
   "metadata": {},
   "outputs": [
    {
     "name": "stdout",
     "output_type": "stream",
     "text": [
      "{1, 2, 3, 5}\n"
     ]
    }
   ],
   "source": [
    "\n",
    "# Ques 31\n",
    "set31= {1, 2, 3, 4, 5}\n",
    "set30.discard(4)\n",
    "print(set30)"
   ]
  },
  {
   "cell_type": "code",
   "execution_count": 432,
   "id": "3d713eb0-fd3c-4a5d-bc50-0e893b2cd626",
   "metadata": {},
   "outputs": [
    {
     "name": "stdout",
     "output_type": "stream",
     "text": [
      "Set 32: {1, 2, 3, 4, 5}\n",
      "Set 320: {4, 5, 6, 7, 8}\n",
      "Is set1 a subset of set2? False\n",
      "Is set2 a subset of set1? False\n",
      "Intersection: {5}\n",
      "Union: {1, 2, 3, 4, 5, 6, 7, 8}\n",
      "Elements in set32 but not in set32: {1, 2, 3}\n",
      "Elements in set320but not in set320: {1, 2, 3}\n"
     ]
    }
   ],
   "source": [
    "# Ques 32\n",
    "set32 = {1, 2, 3, 4, 5}\n",
    "set320= {4, 5, 6, 7, 8}\n",
    "is_subset = set32.issubset(set320)\n",
    "is_superset = set32.issuperset(set320)\n",
    "intersection = set30.intersection(set320)\n",
    "union = set32.union(set320)\n",
    "difference1 = set32.difference(set320)\n",
    "difference2 = set32.difference(set320)\n",
    "\n",
    "print(\"Set 32:\", set32)\n",
    "print(\"Set 320:\", set320)\n",
    "print(\"Is set1 a subset of set2?\", is_subset)\n",
    "print(\"Is set2 a subset of set1?\", is_superset)\n",
    "print(\"Intersection:\", intersection)\n",
    "print(\"Union:\", union)\n",
    "print(\"Elements in set32 but not in set32:\", difference1)\n",
    "print(\"Elements in set320but not in set320:\", difference2)"
   ]
  },
  {
   "cell_type": "code",
   "execution_count": 434,
   "id": "ec88d4d5-20e4-4206-a408-c2edfd2542ba",
   "metadata": {},
   "outputs": [
    {
     "name": "stdout",
     "output_type": "stream",
     "text": [
      "{'r', 'o', 'a', 'p', 'n', 'm', 'i', 't'}\n"
     ]
    }
   ],
   "source": [
    "# Ques 33\n",
    "set_string=\"important\"\n",
    "set_string=set(set_string)\n",
    "print(set_string) "
   ]
  },
  {
   "cell_type": "code",
   "execution_count": 436,
   "id": "5448caff-53ce-4892-8104-3c3d2d64f412",
   "metadata": {},
   "outputs": [
    {
     "name": "stdout",
     "output_type": "stream",
     "text": [
      "{456, 123, 789}\n"
     ]
    }
   ],
   "source": [
    "# Ques 34\n",
    "set_string34 = {\"123\", \"456\", \"789\"}\n",
    "set34=set()\n",
    "for conrt in set_string34:\n",
    "    conrt=int(conrt)\n",
    "    set34.add(conrt)\n",
    "print(set34)"
   ]
  },
  {
   "cell_type": "code",
   "execution_count": 438,
   "id": "48e04c14-3cbc-41a9-8685-e5b0e625fa61",
   "metadata": {},
   "outputs": [
    {
     "name": "stdout",
     "output_type": "stream",
     "text": [
      "{'6647', '4646', '123'}\n"
     ]
    }
   ],
   "source": [
    "# Ques 35\n",
    "set_string35 = {123,4646,6647}\n",
    "set35=set()\n",
    "for convrt in set_string35:\n",
    "    convrt=str(convrt)\n",
    "    set35.add(convrt)\n",
    "print(set35) "
   ]
  },
  {
   "cell_type": "code",
   "execution_count": 467,
   "id": "79696d43-c570-4afa-9215-a06fb95ee803",
   "metadata": {},
   "outputs": [
    {
     "name": "stdout",
     "output_type": "stream",
     "text": [
      "(1, 2, 3, 45, 6)\n"
     ]
    }
   ],
   "source": [
    "# Ques 36\n",
    "settuple36=(1,2,3,45,6)\n",
    "print(settuple36)"
   ]
  },
  {
   "cell_type": "code",
   "execution_count": 466,
   "id": "c22da0b8-b74c-433f-a4f9-8556bbe677b5",
   "metadata": {},
   "outputs": [
    {
     "name": "stdout",
     "output_type": "stream",
     "text": [
      "(1, 2, 3, 4, 5)\n"
     ]
    }
   ],
   "source": [
    "# Ques 37\n",
    "settuple37={1,2,3,4,5}\n",
    "print(tuple(settuple37))"
   ]
  },
  {
   "cell_type": "code",
   "execution_count": 440,
   "id": "b57ab2d4-4499-4a40-8ac2-7508358f225c",
   "metadata": {},
   "outputs": [
    {
     "name": "stdout",
     "output_type": "stream",
     "text": [
      "maximum value in a set is 8\n"
     ]
    }
   ],
   "source": [
    "# Ques 38\n",
    "set38={1,2,3,4,5,6,7,8}\n",
    "print(\"maximum value in a set is\",max(set38))"
   ]
  },
  {
   "cell_type": "code",
   "execution_count": 441,
   "id": "80bf9db2-3902-40c6-9042-0790b41183da",
   "metadata": {},
   "outputs": [
    {
     "name": "stdout",
     "output_type": "stream",
     "text": [
      "minimum value in a set is 1\n"
     ]
    }
   ],
   "source": [
    "# Ques 39\n",
    "set39={1,2,3,4,5,6,7,8}\n",
    "print(\"minimum value in a set is\",min(set39))"
   ]
  },
  {
   "cell_type": "code",
   "execution_count": 446,
   "id": "942312e9-ea62-411a-ace9-43fc4c7251e6",
   "metadata": {},
   "outputs": [
    {
     "name": "stdin",
     "output_type": "stream",
     "text": [
      "enter the elements  hii,hello,bonjur\n"
     ]
    },
    {
     "name": "stdout",
     "output_type": "stream",
     "text": [
      "{'hii,hello,bonjur'}\n"
     ]
    }
   ],
   "source": [
    "# Ques 40\n",
    "set40=input(\"enter the elements \")\n",
    "set400=set()\n",
    "x=(\"\".join(set40))\n",
    "set400.add(x)\n",
    "print(set400)"
   ]
  },
  {
   "cell_type": "code",
   "execution_count": 448,
   "id": "940c65c6-b4e2-419b-914f-6dd7329dcfcc",
   "metadata": {},
   "outputs": [
    {
     "name": "stdout",
     "output_type": "stream",
     "text": [
      "The intersection of the two sets is not empty.\n"
     ]
    }
   ],
   "source": [
    "# Ques 41\n",
    "set41 = {1, 2, 3, 4, 5}\n",
    "set410= {4, 5, 6, 7, 8}\n",
    "intersect = set41.intersection(set410)\n",
    "if not intersect:\n",
    "    print(\"The intersection of the two sets is empty.\")\n",
    "else:\n",
    "    print(\"The intersection of the two sets is not empty.\")"
   ]
  },
  {
   "cell_type": "code",
   "execution_count": 450,
   "id": "dfab59e8-428e-45e0-81ef-7056f7602210",
   "metadata": {},
   "outputs": [
    {
     "name": "stdout",
     "output_type": "stream",
     "text": [
      "Set of the first 5 Fibonacci numbers: {0, 1, 2, 3, 5}\n"
     ]
    }
   ],
   "source": [
    "# Ques 42\n",
    "fibonacci_set = set()\n",
    "ab, bc = 0, 1\n",
    "for _ in range(6):\n",
    "    fibonacci_set.add(ab)\n",
    "    ab, bc = bc, ab + bc\n",
    "print(\"Set of the first 5 Fibonacci numbers:\", fibonacci_set)"
   ]
  },
  {
   "cell_type": "code",
   "execution_count": 452,
   "id": "90076c50-e458-49e0-a2a3-f16114ee635c",
   "metadata": {},
   "outputs": [
    {
     "name": "stdout",
     "output_type": "stream",
     "text": [
      "[1, 2, 3, 4, 5, 6]\n"
     ]
    }
   ],
   "source": [
    "# Ques 43\n",
    "listset42=[1,2,3,2,1,5,6,5,2,4,3,1,2]\n",
    "listset42=set(listset42)\n",
    "listset42=list(listset42)\n",
    "print(listset42)"
   ]
  },
  {
   "cell_type": "code",
   "execution_count": 454,
   "id": "aec39cce-ad92-4d5a-acd4-6932c9327e58",
   "metadata": {},
   "outputs": [
    {
     "name": "stdout",
     "output_type": "stream",
     "text": [
      "sets have same element\n"
     ]
    }
   ],
   "source": [
    "# Ques 44\n",
    "set44 = {1, 2, 3, 2, 1}\n",
    "set440 = {3, 1, 2}\n",
    "same_elements = set44.intersection(set440)\n",
    "if not same_elements:\n",
    "    print(\"sets does not have same element\")\n",
    "else:\n",
    "    print(\"sets have same element\")"
   ]
  },
  {
   "cell_type": "code",
   "execution_count": 456,
   "id": "f7e41796-cd7d-4667-ac38-bae020328109",
   "metadata": {},
   "outputs": [
    {
     "name": "stdout",
     "output_type": "stream",
     "text": [
      "{1, 2, 4, 8, 16}\n"
     ]
    }
   ],
   "source": [
    "# Ques 45\n",
    "n_number=4\n",
    "power2_set=set()\n",
    "for power_2 in range(n_number+1):\n",
    "    power_2=2**power_2\n",
    "    power2_set.add(power_2)\n",
    "print(power2_set )"
   ]
  },
  {
   "cell_type": "code",
   "execution_count": 458,
   "id": "69ccfa3d-cd2e-45fa-a676-a485941f5718",
   "metadata": {},
   "outputs": [
    {
     "name": "stdout",
     "output_type": "stream",
     "text": [
      "sets have same element {9, 12, 7}\n"
     ]
    }
   ],
   "source": [
    "# Ques 46\n",
    "set46=  {3, 7, 9, 12, 15}\n",
    "setlist46 = [7, 12, 5, 9]\n",
    "set460=set(setlist46)\n",
    "same_ments = set46.intersection(set460)\n",
    "if not same_ments:\n",
    "    print(\"sets does not have same element\")\n",
    "else:\n",
    "    print(\"sets have same element\",same_ments)"
   ]
  },
  {
   "cell_type": "code",
   "execution_count": 460,
   "id": "ced65f2f-564d-44ee-a19c-ebe92006e20a",
   "metadata": {},
   "outputs": [
    {
     "name": "stdout",
     "output_type": "stream",
     "text": [
      "triangular numbers in set = {1, 3, 6, 10, 15}\n"
     ]
    }
   ],
   "source": [
    "# Ques 47\n",
    "triangular_numberss=set()\n",
    "n_thvalue=5\n",
    "for n in range(1,n_thvalue+1):\n",
    "    iota=(n * (n + 1) // 2)\n",
    "    triangular_numberss.add(iota)\n",
    "print(\"triangular numbers in set =\",(triangular_numberss ))"
   ]
  },
  {
   "cell_type": "code",
   "execution_count": 462,
   "id": "537124c1-5fa0-40b0-aa42-663b6af40c46",
   "metadata": {},
   "outputs": [
    {
     "name": "stdout",
     "output_type": "stream",
     "text": [
      "set480 is a subset of set48 is True\n"
     ]
    }
   ],
   "source": [
    "# Ques 48\n",
    "set48 = {1, 2, 3, 4, 5}\n",
    "set480 = {3, 4}\n",
    "print(\"set480 is a subset of set48 is\",set480.issubset(set48))"
   ]
  },
  {
   "cell_type": "code",
   "execution_count": 464,
   "id": "7adbb97a-9a0d-4105-ab0a-08b9c157cc62",
   "metadata": {},
   "outputs": [
    {
     "name": "stdout",
     "output_type": "stream",
     "text": [
      "{0, 1}\n"
     ]
    }
   ],
   "source": [
    "# Ques 49\n",
    "length_nvalue=10\n",
    "alternate_set=set()\n",
    "for nubb in range(1,11):\n",
    "    nubb=nubb%2\n",
    "    alternate_set.add(nubb)\n",
    "print(alternate_set)"
   ]
  },
  {
   "cell_type": "code",
   "execution_count": 465,
   "id": "1d7956fa-bd35-4334-8a96-224ff73ccd33",
   "metadata": {},
   "outputs": [
    {
     "name": "stdout",
     "output_type": "stream",
     "text": [
      "{1, 2, 3, 4, 5, 6, 7, 8}\n"
     ]
    }
   ],
   "source": [
    "# Ques 50\n",
    "set50={1,2,3,4}\n",
    "set51={3,4,5,6}\n",
    "set52={5,6,7,8}\n",
    "complete_merge=set50.union(set51,set52)\n",
    "print(complete_merge)"
   ]
  }
 ],
 "metadata": {
  "kernelspec": {
   "display_name": "Python 3 (ipykernel)",
   "language": "python",
   "name": "python3"
  },
  "language_info": {
   "codemirror_mode": {
    "name": "ipython",
    "version": 3
   },
   "file_extension": ".py",
   "mimetype": "text/x-python",
   "name": "python",
   "nbconvert_exporter": "python",
   "pygments_lexer": "ipython3",
   "version": "3.10.8"
  }
 },
 "nbformat": 4,
 "nbformat_minor": 5
}
